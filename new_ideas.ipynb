{
 "cells": [
  {
   "cell_type": "code",
   "execution_count": 2,
   "metadata": {
    "collapsed": false,
    "scrolled": true
   },
   "outputs": [
    {
     "name": "stderr",
     "output_type": "stream",
     "text": [
      "[INFO] sframe.cython.cy_server: SFrame v2.1 started. Logging /tmp/sframe_server_1483354682.log\n"
     ]
    },
    {
     "name": "stdout",
     "output_type": "stream",
     "text": [
      "# File sizes\n",
      "small_test_frame.csv          47.0MB\n",
      "Kag_Outbrain_2.ipynb          0.0MB\n",
      "clicks_test.csv               506.0MB\n",
      "documents_categories.csv      118.0MB\n",
      "output                        128.0MB\n",
      ".ipynb_checkpoints            0.0MB\n",
      "clicks_train.csv              1486.0MB\n",
      "a.out                         0.0MB\n",
      "small1_test_frame.csv         70.0MB\n",
      "Kag_Outbrain.ipynb            0.0MB\n",
      "small_train_libffm.csv        23.0MB\n",
      "small1_train_frame.csv        70.0MB\n",
      "page_views_sample.csv         454.0MB\n",
      "new_ideas.ipynb               0.0MB\n",
      "events.csv                    1208.0MB\n",
      "documents_topics.csv          339.0MB\n",
      "documents_meta.csv            89.0MB\n",
      "a                             0.0MB\n",
      "promoted_content.csv          13.0MB\n",
      "small_test_libffm.csv         25.0MB\n",
      "nohup.out                     0.0MB\n",
      "no_le_frame.csv               23.0MB\n",
      "output_val                    69.0MB\n",
      "backtrace.0                   0.0MB\n",
      "test.ipynb                    0.0MB\n",
      "documents_entities.csv        324.0MB\n",
      "myfile                        8.0MB\n",
      "submission                    279.0MB\n",
      "small_train_frame.csv         47.0MB\n",
      "map_k.ipynb                   0.0MB\n"
     ]
    }
   ],
   "source": [
    "import numpy as np # linear algebra\n",
    "import pandas as pd # data processing, CSV file I/O (e.g. pd.read_csv)\n",
    "import os\n",
    "import gc # We're gonna be clearing memory a lot\n",
    "import matplotlib.pyplot as plt\n",
    "import seaborn as sns\n",
    "import sframe\n",
    "from sklearn.preprocessing import LabelEncoder\n",
    "\n",
    "%matplotlib inline\n",
    "\n",
    "p = sns.color_palette()\n",
    "dir=os.getcwd()\n",
    "\n",
    "print('# File sizes')\n",
    "for f in os.listdir(dir):\n",
    "    if 'zip' not in f:\n",
    "        print(f.ljust(30) + str(round(os.path.getsize(dir+'/' + f) / 1000000, 2)) + 'MB')\n",
    "        \n",
    "#../../libffm/ffm-train -l 0.002 -k 16 -t 30 -r 0.1 -s 12 -p small_test_frame.csv small_train_frame.csv model_w_shift"
   ]
  },
  {
   "cell_type": "code",
   "execution_count": 3,
   "metadata": {
    "collapsed": true
   },
   "outputs": [],
   "source": [
    "def calc_map(frame): #columns #display_id,clicked,prediciton\n",
    "    #calcultes mean average percision for frame...\n",
    "    pred_id=0\n",
    "    i=1\n",
    "    sum_=0\n",
    "    p_k=0\n",
    "    clicks=0\n",
    "    display_ids=[]\n",
    "    ranks=[]\n",
    "    for row in frame:\n",
    "        if row['display_id']==pred_id:\n",
    "            if row['clicked']==1:\n",
    "                #print row\n",
    "                clicks+=1\n",
    "                p_k=clicks*1.0/i\n",
    "                sum_+=p_k\n",
    "                display_ids.append(row['display_id'])\n",
    "                ranks.append(i)\n",
    "                \n",
    "            i+=1\n",
    "        else:\n",
    "            pred_id=row['display_id']\n",
    "            clicks=0\n",
    "            p_k=0\n",
    "            i=1\n",
    "        \n",
    "    return sum_,display_ids,ranks"
   ]
  },
  {
   "cell_type": "code",
   "execution_count": 6,
   "metadata": {
    "collapsed": false
   },
   "outputs": [
    {
     "name": "stderr",
     "output_type": "stream",
     "text": [
      "/home/ubuntu/.local/lib/python2.7/site-packages/IPython/core/interactiveshell.py:2717: DtypeWarning: Columns (4) have mixed types. Specify dtype option on import or set low_memory=False.\n",
      "  interactivity=interactivity, compiler=compiler, result=result)\n"
     ]
    }
   ],
   "source": [
    "events_pd=pd.read_csv('events.csv')\n",
    "clicks_test_pd=pd.read_csv('clicks_test.csv')\n",
    "page_views_pd=pd.read_csv('page_views_sample.csv')\n",
    "clicks_train_pd=pd.read_csv('clicks_train.csv')"
   ]
  },
  {
   "cell_type": "code",
   "execution_count": 4,
   "metadata": {
    "collapsed": true
   },
   "outputs": [
    {
     "name": "stdout",
     "output_type": "stream",
     "text": [
      "------------------------------------------------------\n",
      "Inferred types from first 100 line(s) of file as \n",
      "column_type_hints=[int,str,int,int,int,str]\n",
      "If parsing fails due to incorrect types, you can correct\n",
      "the inferred type list above and pass it to read_csv in\n",
      "the column_type_hints argument\n",
      "------------------------------------------------------\n"
     ]
    },
    {
     "data": {
      "text/html": [
       "<pre>Unable to parse line \"303066,83e9ec48908c6a,968149,28799999,\\N,US>VA>511\"</pre>"
      ],
      "text/plain": [
       "Unable to parse line \"303066,83e9ec48908c6a,968149,28799999,\\N,US>VA>511\""
      ]
     },
     "metadata": {},
     "output_type": "display_data"
    },
    {
     "data": {
      "text/html": [
       "<pre>Read 1061339 lines. Lines per second: 652454</pre>"
      ],
      "text/plain": [
       "Read 1061339 lines. Lines per second: 652454"
      ]
     },
     "metadata": {},
     "output_type": "display_data"
    },
    {
     "data": {
      "text/html": [
       "<pre>Unable to parse line \"11328496,7e8aa06b36db6a,1827718,752399961,\\N,US>KY>529\"</pre>"
      ],
      "text/plain": [
       "Unable to parse line \"11328496,7e8aa06b36db6a,1827718,752399961,\\N,US>KY>529\""
      ]
     },
     "metadata": {},
     "output_type": "display_data"
    },
    {
     "data": {
      "text/html": [
       "<pre>Read 12198726 lines. Lines per second: 1.78636e+06</pre>"
      ],
      "text/plain": [
       "Read 12198726 lines. Lines per second: 1.78636e+06"
      ]
     },
     "metadata": {},
     "output_type": "display_data"
    },
    {
     "data": {
      "text/html": [
       "<pre>Unable to parse line \"13489553,5cda9845a1b9be,2624774,896400000,\\N,US>IN>527\"</pre>"
      ],
      "text/plain": [
       "Unable to parse line \"13489553,5cda9845a1b9be,2624774,896400000,\\N,US>IN>527\""
      ]
     },
     "metadata": {},
     "output_type": "display_data"
    },
    {
     "data": {
      "text/html": [
       "<pre>Unable to parse line \"14004328,f4bb634c3871b9,635051,921599944,\\N,US>NY>501\"</pre>"
      ],
      "text/plain": [
       "Unable to parse line \"14004328,f4bb634c3871b9,635051,921599944,\\N,US>NY>501\""
      ]
     },
     "metadata": {},
     "output_type": "display_data"
    },
    {
     "data": {
      "text/html": [
       "<pre>Unable to parse line \"15056922,558ba104e8a37c,2746860,997199999,\\N,US>MA>506\"</pre>"
      ],
      "text/plain": [
       "Unable to parse line \"15056922,558ba104e8a37c,2746860,997199999,\\N,US>MA>506\""
      ]
     },
     "metadata": {},
     "output_type": "display_data"
    },
    {
     "data": {
      "text/html": [
       "<pre>Read 23070168 lines. Lines per second: 1.94048e+06</pre>"
      ],
      "text/plain": [
       "Read 23070168 lines. Lines per second: 1.94048e+06"
      ]
     },
     "metadata": {},
     "output_type": "display_data"
    },
    {
     "data": {
      "text/html": [
       "<pre>5 lines failed to parse correctly</pre>"
      ],
      "text/plain": [
       "5 lines failed to parse correctly"
      ]
     },
     "metadata": {},
     "output_type": "display_data"
    },
    {
     "data": {
      "text/html": [
       "<pre>Finished parsing file /home/ubuntu/Notebooks/kaggle_outbrain/events.csv</pre>"
      ],
      "text/plain": [
       "Finished parsing file /home/ubuntu/Notebooks/kaggle_outbrain/events.csv"
      ]
     },
     "metadata": {},
     "output_type": "display_data"
    },
    {
     "data": {
      "text/html": [
       "<pre>Parsing completed. Parsed 23120121 lines in 11.9085 secs.</pre>"
      ],
      "text/plain": [
       "Parsing completed. Parsed 23120121 lines in 11.9085 secs."
      ]
     },
     "metadata": {},
     "output_type": "display_data"
    },
    {
     "data": {
      "text/html": [
       "<pre>Finished parsing file /home/ubuntu/Notebooks/kaggle_outbrain/clicks_test.csv</pre>"
      ],
      "text/plain": [
       "Finished parsing file /home/ubuntu/Notebooks/kaggle_outbrain/clicks_test.csv"
      ]
     },
     "metadata": {},
     "output_type": "display_data"
    },
    {
     "data": {
      "text/html": [
       "<pre>Parsing completed. Parsed 100 lines in 0.529971 secs.</pre>"
      ],
      "text/plain": [
       "Parsing completed. Parsed 100 lines in 0.529971 secs."
      ]
     },
     "metadata": {},
     "output_type": "display_data"
    },
    {
     "name": "stdout",
     "output_type": "stream",
     "text": [
      "------------------------------------------------------\n",
      "Inferred types from first 100 line(s) of file as \n",
      "column_type_hints=[int,int]\n",
      "If parsing fails due to incorrect types, you can correct\n",
      "the inferred type list above and pass it to read_csv in\n",
      "the column_type_hints argument\n",
      "------------------------------------------------------\n"
     ]
    },
    {
     "data": {
      "text/html": [
       "<pre>Read 26665442 lines. Lines per second: 6.03204e+06</pre>"
      ],
      "text/plain": [
       "Read 26665442 lines. Lines per second: 6.03204e+06"
      ]
     },
     "metadata": {},
     "output_type": "display_data"
    },
    {
     "data": {
      "text/html": [
       "<pre>Finished parsing file /home/ubuntu/Notebooks/kaggle_outbrain/clicks_test.csv</pre>"
      ],
      "text/plain": [
       "Finished parsing file /home/ubuntu/Notebooks/kaggle_outbrain/clicks_test.csv"
      ]
     },
     "metadata": {},
     "output_type": "display_data"
    },
    {
     "data": {
      "text/html": [
       "<pre>Parsing completed. Parsed 32225162 lines in 4.91643 secs.</pre>"
      ],
      "text/plain": [
       "Parsing completed. Parsed 32225162 lines in 4.91643 secs."
      ]
     },
     "metadata": {},
     "output_type": "display_data"
    },
    {
     "data": {
      "text/html": [
       "<pre>Finished parsing file /home/ubuntu/Notebooks/kaggle_outbrain/page_views_sample.csv</pre>"
      ],
      "text/plain": [
       "Finished parsing file /home/ubuntu/Notebooks/kaggle_outbrain/page_views_sample.csv"
      ]
     },
     "metadata": {},
     "output_type": "display_data"
    },
    {
     "data": {
      "text/html": [
       "<pre>Parsing completed. Parsed 100 lines in 0.967172 secs.</pre>"
      ],
      "text/plain": [
       "Parsing completed. Parsed 100 lines in 0.967172 secs."
      ]
     },
     "metadata": {},
     "output_type": "display_data"
    },
    {
     "name": "stdout",
     "output_type": "stream",
     "text": [
      "------------------------------------------------------\n",
      "Inferred types from first 100 line(s) of file as \n",
      "column_type_hints=[str,int,int,int,str,int]\n",
      "If parsing fails due to incorrect types, you can correct\n",
      "the inferred type list above and pass it to read_csv in\n",
      "the column_type_hints argument\n",
      "------------------------------------------------------\n"
     ]
    },
    {
     "data": {
      "text/html": [
       "<pre>Read 6921161 lines. Lines per second: 2.00981e+06</pre>"
      ],
      "text/plain": [
       "Read 6921161 lines. Lines per second: 2.00981e+06"
      ]
     },
     "metadata": {},
     "output_type": "display_data"
    },
    {
     "data": {
      "text/html": [
       "<pre>Finished parsing file /home/ubuntu/Notebooks/kaggle_outbrain/page_views_sample.csv</pre>"
      ],
      "text/plain": [
       "Finished parsing file /home/ubuntu/Notebooks/kaggle_outbrain/page_views_sample.csv"
      ]
     },
     "metadata": {},
     "output_type": "display_data"
    },
    {
     "data": {
      "text/html": [
       "<pre>Parsing completed. Parsed 9999999 lines in 4.71584 secs.</pre>"
      ],
      "text/plain": [
       "Parsing completed. Parsed 9999999 lines in 4.71584 secs."
      ]
     },
     "metadata": {},
     "output_type": "display_data"
    },
    {
     "data": {
      "text/html": [
       "<pre>Finished parsing file /home/ubuntu/Notebooks/kaggle_outbrain/clicks_train.csv</pre>"
      ],
      "text/plain": [
       "Finished parsing file /home/ubuntu/Notebooks/kaggle_outbrain/clicks_train.csv"
      ]
     },
     "metadata": {},
     "output_type": "display_data"
    },
    {
     "data": {
      "text/html": [
       "<pre>Parsing completed. Parsed 100 lines in 0.569042 secs.</pre>"
      ],
      "text/plain": [
       "Parsing completed. Parsed 100 lines in 0.569042 secs."
      ]
     },
     "metadata": {},
     "output_type": "display_data"
    },
    {
     "name": "stdout",
     "output_type": "stream",
     "text": [
      "------------------------------------------------------\n",
      "Inferred types from first 100 line(s) of file as \n",
      "column_type_hints=[int,int,int]\n",
      "If parsing fails due to incorrect types, you can correct\n",
      "the inferred type list above and pass it to read_csv in\n",
      "the column_type_hints argument\n",
      "------------------------------------------------------\n"
     ]
    },
    {
     "data": {
      "text/html": [
       "<pre>Read 16032927 lines. Lines per second: 5.0943e+06</pre>"
      ],
      "text/plain": [
       "Read 16032927 lines. Lines per second: 5.0943e+06"
      ]
     },
     "metadata": {},
     "output_type": "display_data"
    },
    {
     "data": {
      "text/html": [
       "<pre>Read 47416685 lines. Lines per second: 5.68595e+06</pre>"
      ],
      "text/plain": [
       "Read 47416685 lines. Lines per second: 5.68595e+06"
      ]
     },
     "metadata": {},
     "output_type": "display_data"
    },
    {
     "data": {
      "text/html": [
       "<pre>Read 77218170 lines. Lines per second: 5.69774e+06</pre>"
      ],
      "text/plain": [
       "Read 77218170 lines. Lines per second: 5.69774e+06"
      ]
     },
     "metadata": {},
     "output_type": "display_data"
    },
    {
     "data": {
      "text/html": [
       "<pre>Finished parsing file /home/ubuntu/Notebooks/kaggle_outbrain/clicks_train.csv</pre>"
      ],
      "text/plain": [
       "Finished parsing file /home/ubuntu/Notebooks/kaggle_outbrain/clicks_train.csv"
      ]
     },
     "metadata": {},
     "output_type": "display_data"
    },
    {
     "data": {
      "text/html": [
       "<pre>Parsing completed. Parsed 87141731 lines in 14.9252 secs.</pre>"
      ],
      "text/plain": [
       "Parsing completed. Parsed 87141731 lines in 14.9252 secs."
      ]
     },
     "metadata": {},
     "output_type": "display_data"
    }
   ],
   "source": [
    "events=sframe.SFrame.read_csv('events.csv')\n",
    "clicks_test=sframe.SFrame.read_csv('clicks_test.csv')\n",
    "page_views=sframe.SFrame.read_csv('page_views_sample.csv')\n",
    "clicks_train=sframe.SFrame.read_csv('clicks_train.csv')"
   ]
  },
  {
   "cell_type": "code",
   "execution_count": 7,
   "metadata": {
    "collapsed": false,
    "scrolled": true
   },
   "outputs": [
    {
     "name": "stdout",
     "output_type": "stream",
     "text": [
      "15.2198760509\n",
      "18.5617659092\n"
     ]
    }
   ],
   "source": [
    "import time\n",
    "t=time.time()\n",
    "joined_test=clicks_test_pd.merge(events_pd)\n",
    "print time.time()-t\n",
    "t=time.time()\n",
    "joined_train=clicks_train_pd.merge(events_pd)\n",
    "print time.time()-t"
   ]
  },
  {
   "cell_type": "code",
   "execution_count": 16,
   "metadata": {
    "collapsed": false
   },
   "outputs": [
    {
     "name": "stdout",
     "output_type": "stream",
     "text": [
      "0.103005170822\n"
     ]
    }
   ],
   "source": [
    "import pickle\n",
    "t=time.time()\n",
    "pkl_file = open('/datadrive/le.pickle', 'rb')\n",
    "le=pickle.load(pkl_file)\n",
    "print time.time()-t"
   ]
  },
  {
   "cell_type": "code",
   "execution_count": 8,
   "metadata": {
    "collapsed": true
   },
   "outputs": [],
   "source": [
    "msk = np.random.rand(len(joined_train)) < 0.8\n",
    "train = joined_train[msk]\n",
    "val = joined_train[~msk]"
   ]
  },
  {
   "cell_type": "code",
   "execution_count": 15,
   "metadata": {
    "collapsed": false
   },
   "outputs": [
    {
     "name": "stdout",
     "output_type": "stream",
     "text": [
      "5.37047886848\n"
     ]
    }
   ],
   "source": [
    "t=time.time()\n",
    "f = {'clicked':['sum','count']}\n",
    "grouped_ads=train[['ad_id','clicked']].groupby('ad_id').agg(f)\n",
    "grouped_ads.columns=['sum','count']\n",
    "print time.time()-t\n",
    "\n",
    "grouped_ads['ctr']=grouped_ads['sum']/grouped_ads['count']\n",
    "grouped_ads=grouped_ads.reset_index()\n",
    "grouped_ads=grouped_ads[grouped_ads['count']>10] #only >10 impression ads"
   ]
  },
  {
   "cell_type": "code",
   "execution_count": null,
   "metadata": {
    "collapsed": false,
    "scrolled": false
   },
   "outputs": [],
   "source": [
    "ctr_greedy(val,grouped_ads)"
   ]
  },
  {
   "cell_type": "code",
   "execution_count": 82,
   "metadata": {
    "collapsed": false
   },
   "outputs": [
    {
     "data": {
      "text/plain": [
       "11111533"
      ]
     },
     "execution_count": 82,
     "metadata": {},
     "output_type": "execute_result"
    }
   ],
   "source": [
    "len(val['display_id'].unique())"
   ]
  },
  {
   "cell_type": "code",
   "execution_count": 11,
   "metadata": {
    "collapsed": false
   },
   "outputs": [],
   "source": [
    "#algorithm 1: ctr greedy\n",
    "def ctr_greedy(frame,ctr,field='ad_id'):\n",
    "    joined=frame.merge(ctr,on='ad_id', how='left')\n",
    "    \n",
    "    joined['prediction']=joined.ctr\n",
    "    joined.prediction.fillna(0.12, inplace=True)\n",
    "    s,display_id,ranks,calc_map(sframe.SFrame(joined[['display_id','clicked','prediction']]))\n",
    "    #=calc_map(test_set)#/200000\n",
    "    print s/len(display_id)"
   ]
  },
  {
   "cell_type": "code",
   "execution_count": 35,
   "metadata": {
    "collapsed": false
   },
   "outputs": [],
   "source": [
    "grouped_ads.columns=['sum','count']"
   ]
  }
 ],
 "metadata": {
  "kernelspec": {
   "display_name": "Python 2",
   "language": "python",
   "name": "python2"
  },
  "language_info": {
   "codemirror_mode": {
    "name": "ipython",
    "version": 2
   },
   "file_extension": ".py",
   "mimetype": "text/x-python",
   "name": "python",
   "nbconvert_exporter": "python",
   "pygments_lexer": "ipython2",
   "version": "2.7.12+"
  }
 },
 "nbformat": 4,
 "nbformat_minor": 2
}
