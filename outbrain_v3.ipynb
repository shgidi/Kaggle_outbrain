{
 "cells": [
  {
   "cell_type": "code",
   "execution_count": 2,
   "metadata": {
    "collapsed": false,
    "scrolled": true
   },
   "outputs": [],
   "source": [
    "import numpy as np\n",
    "import pandas as pd\n",
    "import time\n",
    "from util import fast_mapk,data_frame_to_lib_ffm\n",
    "from sklearn.preprocessing import LabelEncoder\n",
    "import time\n",
    "import pickle"
   ]
  },
  {
   "cell_type": "code",
   "execution_count": 3,
   "metadata": {
    "collapsed": false
   },
   "outputs": [],
   "source": [
    "def add(a, b):\n",
    "    return str(a) + str(b)\n",
    "\n",
    "vfunc = np.vectorize(add)\n",
    "\n",
    "#output_frame[column] = vfunc(str(column) + ':', output_frame[column])"
   ]
  },
  {
   "cell_type": "code",
   "execution_count": 4,
   "metadata": {
    "collapsed": true
   },
   "outputs": [],
   "source": [
    "#convert the data frame to lib ffm format\n",
    "def data_frame_to_lib_ffm1(frame,key,field_list): #no le currenlty\n",
    "    new_frame=pd.DataFrame()\n",
    "    \n",
    "    for column_name in frame.columns:\n",
    "        if column_name in field_list:\n",
    "            if column_name!=key:\n",
    "                #col=[str(field_list[column_name])+':'+str(row)+':1' for row in frame[column_name]]  \n",
    "                col= vfunc(str(frame[column_name]) , 1)\n",
    "            else:\n",
    "                col=frame[column_name]\n",
    "            new_frame[column_name]=col\n",
    "    return new_frame"
   ]
  },
  {
   "cell_type": "code",
   "execution_count": 5,
   "metadata": {
    "collapsed": false,
    "scrolled": true
   },
   "outputs": [
    {
     "data": {
      "text/plain": [
       "<module 'util' from 'util.pyc'>"
      ]
     },
     "execution_count": 5,
     "metadata": {},
     "output_type": "execute_result"
    }
   ],
   "source": [
    "import util\n",
    "reload(util)"
   ]
  },
  {
   "cell_type": "code",
   "execution_count": 6,
   "metadata": {
    "collapsed": true
   },
   "outputs": [],
   "source": [
    "#functions\n",
    "def load_data_from_pickle():\n",
    "    pkl_file = open('/datadrive/le.pickle', 'rb')\n",
    "    le = pickle.load(pkl_file)\n",
    "\n",
    "    pkl_file = open('/datadrive/full_train_features_dict.pickle', 'rb')\n",
    "    full_train_features_dict = pickle.load(pkl_file)\n",
    "\n",
    "    pkl_file = open('/datadrive/full_test_features_dict.pickle', 'rb')\n",
    "    full_test_features_dict = pickle.load(pkl_file)\n",
    "\n",
    "    return full_train_features_dict,full_test_features_dict\n",
    "\n",
    "def generate_final_data_Frames(train_fields_dict,test_fields_dict):\n",
    "    # generate final data frames\n",
    "    t = time.time()\n",
    "    final_train_frame = pd.DataFrame()\n",
    "    final_test_frame = pd.DataFrame()\n",
    "\n",
    "    for name in train_fields_dict:\n",
    "        final_train_frame[name]=train_fields_dict[name]\n",
    "\n",
    "    for name in test_fields_dict:\n",
    "        final_test_frame[name]=test_fields_dict[name]\n",
    "\n",
    "    print time.time() - t\n",
    "\n",
    "    return final_train_frame,final_test_frame\n",
    "\n",
    "def split(train_frame,test_frame,proportion=[0.3,0.4],split_type='small'):\n",
    "    #start with small split\n",
    "    t=time.time()\n",
    "    display_ids=train_frame.display_id\n",
    "    uniques = train_frame.display_id.unique()\n",
    "    rands = np.random.rand(len(uniques))\n",
    "    msk_train = rands < proportion[0]\n",
    "    print sum(msk_train)\n",
    "    msk_test =( rands < proportion[1]) & (rands >proportion[0])\n",
    "    \n",
    "    train = train_frame[train_frame.display_id.isin(uniques[msk_train])]\n",
    "    print len(train)\n",
    "    test = train_frame[train_frame.display_id.isin(uniques[msk_test])]\n",
    "    print 'split finished',time.time() - t\n",
    "    return train,test"
   ]
  },
  {
   "cell_type": "code",
   "execution_count": 7,
   "metadata": {
    "collapsed": false,
    "scrolled": false
   },
   "outputs": [
    {
     "name": "stdout",
     "output_type": "stream",
     "text": [
      "data read from files\n",
      "6.73870491982\n",
      "pickles loaded\n"
     ]
    }
   ],
   "source": [
    "df_train = pd.read_csv(\"clicks_train.csv\")  # 100,000\n",
    "df_test = pd.read_csv(\"clicks_test.csv\")  # 100,000\n",
    "print 'data read from files'\n",
    "\n",
    "train_display_ids=df_train.display_id\n",
    "test_display_ids = df_test.display_id\n",
    "\n",
    "train_fields_dict, test_fields_dict=load_data_from_pickle()\n",
    "train_frame, test_frame=generate_final_data_Frames(train_fields_dict,test_fields_dict)\n",
    "print 'pickles loaded'\n",
    "\n",
    "train_frame['display_id']=train_display_ids\n",
    "test_frame['display_id']=test_display_ids\n",
    "train_frame['clicked']=df_train.clicked\n",
    "test_frame['clicked']=0\n",
    "#after this line, I should have 2 dataframes with all data, 80M and 30M accordingly, which should be split if desired\n",
    "\n",
    "#split:\n",
    "\n",
    "\n"
   ]
  },
  {
   "cell_type": "code",
   "execution_count": 8,
   "metadata": {
    "collapsed": false,
    "scrolled": true
   },
   "outputs": [
    {
     "name": "stdout",
     "output_type": "stream",
     "text": [
      "11800771\n",
      "60939634\n",
      "split finished 48.3518118858\n"
     ]
    }
   ],
   "source": [
    "#split\n",
    "train_size=0.7\n",
    "train_split_frame,val_split_frame=split(train_frame,test_frame,proportion=[train_size,min(train_size*1.3,1)])"
   ]
  },
  {
   "cell_type": "code",
   "execution_count": 9,
   "metadata": {
    "collapsed": false,
    "scrolled": true
   },
   "outputs": [
    {
     "name": "stdout",
     "output_type": "stream",
     "text": [
      "final_train length 60939634\n",
      "394.008224964\n",
      "131.762354851\n"
     ]
    }
   ],
   "source": [
    "#final frame to csv\n",
    "\n",
    "t=time.time()\n",
    "#this is also slowish... bcz of the data_frame_to_lib_ffm function\n",
    "fields_list=['clicked', 'train_users', 'train_ads', 'train_dest_docs']#'train_categories':3\n",
    "fields_dict={'clicked':-1, 'train_users':0, 'train_ads':1,'train_dest_docs':2}\n",
    "\n",
    "final_train_frame=train_split_frame[fields_list]\n",
    "print 'final_train length',len(final_train_frame)\n",
    "final_val_frame=val_split_frame[fields_list]\n",
    "\n",
    "lib_train_frame=data_frame_to_lib_ffm(final_train_frame, 'clicked',fields_dict) #(frame, key, field_list)\n",
    "lib_val_frame=data_frame_to_lib_ffm(final_val_frame, 'clicked',fields_dict)\n",
    "print time.time()-t\n",
    "\n",
    "t=time.time()\n",
    "lib_train_frame[fields_list].to_csv('train_frame.csv', sep=' ', header=None,index=False)\n",
    "lib_val_frame[fields_list].to_csv('val_frame.csv', sep=' ', header=None,index=False)\n",
    "print time.time()-t"
   ]
  },
  {
   "cell_type": "code",
   "execution_count": 20,
   "metadata": {
    "collapsed": false,
    "scrolled": true
   },
   "outputs": [
    {
     "data": {
      "text/html": [
       "<div>\n",
       "<table border=\"1\" class=\"dataframe\">\n",
       "  <thead>\n",
       "    <tr style=\"text-align: right;\">\n",
       "      <th></th>\n",
       "      <th>clicked</th>\n",
       "      <th>train_users</th>\n",
       "      <th>train_ads</th>\n",
       "      <th>train_dest_docs</th>\n",
       "    </tr>\n",
       "  </thead>\n",
       "  <tbody>\n",
       "    <tr>\n",
       "      <th>10</th>\n",
       "      <td>0</td>\n",
       "      <td>1090107</td>\n",
       "      <td>19836377</td>\n",
       "      <td>20363042</td>\n",
       "    </tr>\n",
       "    <tr>\n",
       "      <th>11</th>\n",
       "      <td>0</td>\n",
       "      <td>6075581</td>\n",
       "      <td>19836377</td>\n",
       "      <td>20363042</td>\n",
       "    </tr>\n",
       "    <tr>\n",
       "      <th>12</th>\n",
       "      <td>0</td>\n",
       "      <td>9636615</td>\n",
       "      <td>19836377</td>\n",
       "      <td>20363042</td>\n",
       "    </tr>\n",
       "    <tr>\n",
       "      <th>13</th>\n",
       "      <td>0</td>\n",
       "      <td>16974116</td>\n",
       "      <td>19836377</td>\n",
       "      <td>20363042</td>\n",
       "    </tr>\n",
       "    <tr>\n",
       "      <th>14</th>\n",
       "      <td>1</td>\n",
       "      <td>6412636</td>\n",
       "      <td>19836377</td>\n",
       "      <td>20363042</td>\n",
       "    </tr>\n",
       "    <tr>\n",
       "      <th>15</th>\n",
       "      <td>0</td>\n",
       "      <td>7318474</td>\n",
       "      <td>19836377</td>\n",
       "      <td>20363042</td>\n",
       "    </tr>\n",
       "    <tr>\n",
       "      <th>16</th>\n",
       "      <td>0</td>\n",
       "      <td>15981450</td>\n",
       "      <td>19836377</td>\n",
       "      <td>20363042</td>\n",
       "    </tr>\n",
       "    <tr>\n",
       "      <th>17</th>\n",
       "      <td>1</td>\n",
       "      <td>11145665</td>\n",
       "      <td>19836377</td>\n",
       "      <td>20363042</td>\n",
       "    </tr>\n",
       "    <tr>\n",
       "      <th>18</th>\n",
       "      <td>0</td>\n",
       "      <td>17279679</td>\n",
       "      <td>19836377</td>\n",
       "      <td>20363042</td>\n",
       "    </tr>\n",
       "    <tr>\n",
       "      <th>19</th>\n",
       "      <td>0</td>\n",
       "      <td>4292094</td>\n",
       "      <td>19836377</td>\n",
       "      <td>20363042</td>\n",
       "    </tr>\n",
       "    <tr>\n",
       "      <th>20</th>\n",
       "      <td>0</td>\n",
       "      <td>2782350</td>\n",
       "      <td>19836377</td>\n",
       "      <td>20363042</td>\n",
       "    </tr>\n",
       "    <tr>\n",
       "      <th>35</th>\n",
       "      <td>0</td>\n",
       "      <td>6917696</td>\n",
       "      <td>19836377</td>\n",
       "      <td>20363042</td>\n",
       "    </tr>\n",
       "    <tr>\n",
       "      <th>36</th>\n",
       "      <td>0</td>\n",
       "      <td>9299630</td>\n",
       "      <td>19836377</td>\n",
       "      <td>20363042</td>\n",
       "    </tr>\n",
       "    <tr>\n",
       "      <th>37</th>\n",
       "      <td>1</td>\n",
       "      <td>18876715</td>\n",
       "      <td>19836377</td>\n",
       "      <td>20363042</td>\n",
       "    </tr>\n",
       "    <tr>\n",
       "      <th>38</th>\n",
       "      <td>0</td>\n",
       "      <td>14305743</td>\n",
       "      <td>19836377</td>\n",
       "      <td>20363042</td>\n",
       "    </tr>\n",
       "    <tr>\n",
       "      <th>39</th>\n",
       "      <td>0</td>\n",
       "      <td>10651540</td>\n",
       "      <td>19836377</td>\n",
       "      <td>20363042</td>\n",
       "    </tr>\n",
       "    <tr>\n",
       "      <th>40</th>\n",
       "      <td>0</td>\n",
       "      <td>17628130</td>\n",
       "      <td>19836377</td>\n",
       "      <td>20363042</td>\n",
       "    </tr>\n",
       "    <tr>\n",
       "      <th>41</th>\n",
       "      <td>1</td>\n",
       "      <td>8055283</td>\n",
       "      <td>19836377</td>\n",
       "      <td>20363042</td>\n",
       "    </tr>\n",
       "    <tr>\n",
       "      <th>42</th>\n",
       "      <td>0</td>\n",
       "      <td>19066618</td>\n",
       "      <td>19836377</td>\n",
       "      <td>20363042</td>\n",
       "    </tr>\n",
       "    <tr>\n",
       "      <th>51</th>\n",
       "      <td>0</td>\n",
       "      <td>4006825</td>\n",
       "      <td>19836377</td>\n",
       "      <td>20363042</td>\n",
       "    </tr>\n",
       "    <tr>\n",
       "      <th>52</th>\n",
       "      <td>0</td>\n",
       "      <td>10235490</td>\n",
       "      <td>19836377</td>\n",
       "      <td>20363042</td>\n",
       "    </tr>\n",
       "    <tr>\n",
       "      <th>53</th>\n",
       "      <td>0</td>\n",
       "      <td>9080256</td>\n",
       "      <td>19836377</td>\n",
       "      <td>20363042</td>\n",
       "    </tr>\n",
       "    <tr>\n",
       "      <th>54</th>\n",
       "      <td>1</td>\n",
       "      <td>11786034</td>\n",
       "      <td>19836377</td>\n",
       "      <td>20363042</td>\n",
       "    </tr>\n",
       "    <tr>\n",
       "      <th>55</th>\n",
       "      <td>0</td>\n",
       "      <td>8083410</td>\n",
       "      <td>19836377</td>\n",
       "      <td>20363042</td>\n",
       "    </tr>\n",
       "    <tr>\n",
       "      <th>56</th>\n",
       "      <td>0</td>\n",
       "      <td>8659309</td>\n",
       "      <td>19836377</td>\n",
       "      <td>20363042</td>\n",
       "    </tr>\n",
       "    <tr>\n",
       "      <th>76</th>\n",
       "      <td>0</td>\n",
       "      <td>5247130</td>\n",
       "      <td>19836377</td>\n",
       "      <td>20363042</td>\n",
       "    </tr>\n",
       "    <tr>\n",
       "      <th>77</th>\n",
       "      <td>0</td>\n",
       "      <td>17612281</td>\n",
       "      <td>19836377</td>\n",
       "      <td>20363042</td>\n",
       "    </tr>\n",
       "    <tr>\n",
       "      <th>78</th>\n",
       "      <td>0</td>\n",
       "      <td>1573245</td>\n",
       "      <td>19836377</td>\n",
       "      <td>20363042</td>\n",
       "    </tr>\n",
       "    <tr>\n",
       "      <th>79</th>\n",
       "      <td>1</td>\n",
       "      <td>13851596</td>\n",
       "      <td>19836377</td>\n",
       "      <td>20363042</td>\n",
       "    </tr>\n",
       "    <tr>\n",
       "      <th>80</th>\n",
       "      <td>0</td>\n",
       "      <td>9503717</td>\n",
       "      <td>19836377</td>\n",
       "      <td>20363042</td>\n",
       "    </tr>\n",
       "    <tr>\n",
       "      <th>...</th>\n",
       "      <td>...</td>\n",
       "      <td>...</td>\n",
       "      <td>...</td>\n",
       "      <td>...</td>\n",
       "    </tr>\n",
       "    <tr>\n",
       "      <th>87061057</th>\n",
       "      <td>1</td>\n",
       "      <td>12545370</td>\n",
       "      <td>20327696</td>\n",
       "      <td>20521570</td>\n",
       "    </tr>\n",
       "    <tr>\n",
       "      <th>87061058</th>\n",
       "      <td>0</td>\n",
       "      <td>8394114</td>\n",
       "      <td>20292650</td>\n",
       "      <td>20507784</td>\n",
       "    </tr>\n",
       "    <tr>\n",
       "      <th>87061059</th>\n",
       "      <td>0</td>\n",
       "      <td>14288811</td>\n",
       "      <td>20292650</td>\n",
       "      <td>20507784</td>\n",
       "    </tr>\n",
       "    <tr>\n",
       "      <th>87061095</th>\n",
       "      <td>0</td>\n",
       "      <td>9154685</td>\n",
       "      <td>20293010</td>\n",
       "      <td>20507870</td>\n",
       "    </tr>\n",
       "    <tr>\n",
       "      <th>87061096</th>\n",
       "      <td>0</td>\n",
       "      <td>7458210</td>\n",
       "      <td>20293010</td>\n",
       "      <td>20507870</td>\n",
       "    </tr>\n",
       "    <tr>\n",
       "      <th>87061097</th>\n",
       "      <td>1</td>\n",
       "      <td>11251551</td>\n",
       "      <td>20293010</td>\n",
       "      <td>20507870</td>\n",
       "    </tr>\n",
       "    <tr>\n",
       "      <th>87061098</th>\n",
       "      <td>0</td>\n",
       "      <td>13580942</td>\n",
       "      <td>20293010</td>\n",
       "      <td>20507870</td>\n",
       "    </tr>\n",
       "    <tr>\n",
       "      <th>87061120</th>\n",
       "      <td>0</td>\n",
       "      <td>1907078</td>\n",
       "      <td>19972237</td>\n",
       "      <td>20411842</td>\n",
       "    </tr>\n",
       "    <tr>\n",
       "      <th>87061121</th>\n",
       "      <td>0</td>\n",
       "      <td>5298082</td>\n",
       "      <td>20092609</td>\n",
       "      <td>20455237</td>\n",
       "    </tr>\n",
       "    <tr>\n",
       "      <th>87061122</th>\n",
       "      <td>1</td>\n",
       "      <td>19030548</td>\n",
       "      <td>20084291</td>\n",
       "      <td>20452778</td>\n",
       "    </tr>\n",
       "    <tr>\n",
       "      <th>87061123</th>\n",
       "      <td>0</td>\n",
       "      <td>187512</td>\n",
       "      <td>20084298</td>\n",
       "      <td>20452778</td>\n",
       "    </tr>\n",
       "    <tr>\n",
       "      <th>87061124</th>\n",
       "      <td>0</td>\n",
       "      <td>7452448</td>\n",
       "      <td>19854037</td>\n",
       "      <td>20368562</td>\n",
       "    </tr>\n",
       "    <tr>\n",
       "      <th>87061125</th>\n",
       "      <td>0</td>\n",
       "      <td>7452448</td>\n",
       "      <td>20327492</td>\n",
       "      <td>20521490</td>\n",
       "    </tr>\n",
       "    <tr>\n",
       "      <th>87061166</th>\n",
       "      <td>0</td>\n",
       "      <td>13694814</td>\n",
       "      <td>20292454</td>\n",
       "      <td>20507696</td>\n",
       "    </tr>\n",
       "    <tr>\n",
       "      <th>87061167</th>\n",
       "      <td>0</td>\n",
       "      <td>17650583</td>\n",
       "      <td>19857440</td>\n",
       "      <td>20369584</td>\n",
       "    </tr>\n",
       "    <tr>\n",
       "      <th>87061168</th>\n",
       "      <td>0</td>\n",
       "      <td>17642379</td>\n",
       "      <td>20068080</td>\n",
       "      <td>20447575</td>\n",
       "    </tr>\n",
       "    <tr>\n",
       "      <th>87061169</th>\n",
       "      <td>0</td>\n",
       "      <td>174429</td>\n",
       "      <td>20300546</td>\n",
       "      <td>20510724</td>\n",
       "    </tr>\n",
       "    <tr>\n",
       "      <th>87061170</th>\n",
       "      <td>0</td>\n",
       "      <td>15153423</td>\n",
       "      <td>20131969</td>\n",
       "      <td>20400016</td>\n",
       "    </tr>\n",
       "    <tr>\n",
       "      <th>87061171</th>\n",
       "      <td>1</td>\n",
       "      <td>18737541</td>\n",
       "      <td>20033853</td>\n",
       "      <td>20436899</td>\n",
       "    </tr>\n",
       "    <tr>\n",
       "      <th>87061172</th>\n",
       "      <td>0</td>\n",
       "      <td>2997602</td>\n",
       "      <td>20301317</td>\n",
       "      <td>20510971</td>\n",
       "    </tr>\n",
       "    <tr>\n",
       "      <th>87061173</th>\n",
       "      <td>0</td>\n",
       "      <td>5843800</td>\n",
       "      <td>19998279</td>\n",
       "      <td>20422812</td>\n",
       "    </tr>\n",
       "    <tr>\n",
       "      <th>87061174</th>\n",
       "      <td>0</td>\n",
       "      <td>18983188</td>\n",
       "      <td>20327734</td>\n",
       "      <td>20521600</td>\n",
       "    </tr>\n",
       "    <tr>\n",
       "      <th>87061185</th>\n",
       "      <td>0</td>\n",
       "      <td>1951683</td>\n",
       "      <td>20125629</td>\n",
       "      <td>20400549</td>\n",
       "    </tr>\n",
       "    <tr>\n",
       "      <th>87061186</th>\n",
       "      <td>0</td>\n",
       "      <td>14393016</td>\n",
       "      <td>20070717</td>\n",
       "      <td>20448956</td>\n",
       "    </tr>\n",
       "    <tr>\n",
       "      <th>87061187</th>\n",
       "      <td>0</td>\n",
       "      <td>5640772</td>\n",
       "      <td>20327801</td>\n",
       "      <td>20521592</td>\n",
       "    </tr>\n",
       "    <tr>\n",
       "      <th>87061188</th>\n",
       "      <td>0</td>\n",
       "      <td>8635774</td>\n",
       "      <td>19931542</td>\n",
       "      <td>20393777</td>\n",
       "    </tr>\n",
       "    <tr>\n",
       "      <th>87061189</th>\n",
       "      <td>1</td>\n",
       "      <td>10272207</td>\n",
       "      <td>20270195</td>\n",
       "      <td>20499915</td>\n",
       "    </tr>\n",
       "    <tr>\n",
       "      <th>87061190</th>\n",
       "      <td>0</td>\n",
       "      <td>17425626</td>\n",
       "      <td>20037859</td>\n",
       "      <td>20438439</td>\n",
       "    </tr>\n",
       "    <tr>\n",
       "      <th>87061191</th>\n",
       "      <td>0</td>\n",
       "      <td>16265036</td>\n",
       "      <td>20327162</td>\n",
       "      <td>20521287</td>\n",
       "    </tr>\n",
       "    <tr>\n",
       "      <th>87061192</th>\n",
       "      <td>0</td>\n",
       "      <td>11819820</td>\n",
       "      <td>19897137</td>\n",
       "      <td>20351614</td>\n",
       "    </tr>\n",
       "  </tbody>\n",
       "</table>\n",
       "<p>18280953 rows × 4 columns</p>\n",
       "</div>"
      ],
      "text/plain": [
       "          clicked  train_users  train_ads  train_dest_docs\n",
       "10              0      1090107   19836377         20363042\n",
       "11              0      6075581   19836377         20363042\n",
       "12              0      9636615   19836377         20363042\n",
       "13              0     16974116   19836377         20363042\n",
       "14              1      6412636   19836377         20363042\n",
       "15              0      7318474   19836377         20363042\n",
       "16              0     15981450   19836377         20363042\n",
       "17              1     11145665   19836377         20363042\n",
       "18              0     17279679   19836377         20363042\n",
       "19              0      4292094   19836377         20363042\n",
       "20              0      2782350   19836377         20363042\n",
       "35              0      6917696   19836377         20363042\n",
       "36              0      9299630   19836377         20363042\n",
       "37              1     18876715   19836377         20363042\n",
       "38              0     14305743   19836377         20363042\n",
       "39              0     10651540   19836377         20363042\n",
       "40              0     17628130   19836377         20363042\n",
       "41              1      8055283   19836377         20363042\n",
       "42              0     19066618   19836377         20363042\n",
       "51              0      4006825   19836377         20363042\n",
       "52              0     10235490   19836377         20363042\n",
       "53              0      9080256   19836377         20363042\n",
       "54              1     11786034   19836377         20363042\n",
       "55              0      8083410   19836377         20363042\n",
       "56              0      8659309   19836377         20363042\n",
       "76              0      5247130   19836377         20363042\n",
       "77              0     17612281   19836377         20363042\n",
       "78              0      1573245   19836377         20363042\n",
       "79              1     13851596   19836377         20363042\n",
       "80              0      9503717   19836377         20363042\n",
       "...           ...          ...        ...              ...\n",
       "87061057        1     12545370   20327696         20521570\n",
       "87061058        0      8394114   20292650         20507784\n",
       "87061059        0     14288811   20292650         20507784\n",
       "87061095        0      9154685   20293010         20507870\n",
       "87061096        0      7458210   20293010         20507870\n",
       "87061097        1     11251551   20293010         20507870\n",
       "87061098        0     13580942   20293010         20507870\n",
       "87061120        0      1907078   19972237         20411842\n",
       "87061121        0      5298082   20092609         20455237\n",
       "87061122        1     19030548   20084291         20452778\n",
       "87061123        0       187512   20084298         20452778\n",
       "87061124        0      7452448   19854037         20368562\n",
       "87061125        0      7452448   20327492         20521490\n",
       "87061166        0     13694814   20292454         20507696\n",
       "87061167        0     17650583   19857440         20369584\n",
       "87061168        0     17642379   20068080         20447575\n",
       "87061169        0       174429   20300546         20510724\n",
       "87061170        0     15153423   20131969         20400016\n",
       "87061171        1     18737541   20033853         20436899\n",
       "87061172        0      2997602   20301317         20510971\n",
       "87061173        0      5843800   19998279         20422812\n",
       "87061174        0     18983188   20327734         20521600\n",
       "87061185        0      1951683   20125629         20400549\n",
       "87061186        0     14393016   20070717         20448956\n",
       "87061187        0      5640772   20327801         20521592\n",
       "87061188        0      8635774   19931542         20393777\n",
       "87061189        1     10272207   20270195         20499915\n",
       "87061190        0     17425626   20037859         20438439\n",
       "87061191        0     16265036   20327162         20521287\n",
       "87061192        0     11819820   19897137         20351614\n",
       "\n",
       "[18280953 rows x 4 columns]"
      ]
     },
     "execution_count": 20,
     "metadata": {},
     "output_type": "execute_result"
    }
   ],
   "source": [
    "final_val_frame"
   ]
  },
  {
   "cell_type": "code",
   "execution_count": 29,
   "metadata": {
    "collapsed": false,
    "scrolled": true
   },
   "outputs": [
    {
     "data": {
      "text/plain": [
       "array([20363042, 20363042, 20363042, ..., 20438439, 20521287, 20351614])"
      ]
     },
     "execution_count": 29,
     "metadata": {},
     "output_type": "execute_result"
    }
   ],
   "source": []
  },
  {
   "cell_type": "code",
   "execution_count": 30,
   "metadata": {
    "collapsed": false
   },
   "outputs": [
    {
     "data": {
      "text/plain": [
       "array([19836377, 19836377, 19836377, ..., 20037859, 20327162, 19897137])"
      ]
     },
     "execution_count": 30,
     "metadata": {},
     "output_type": "execute_result"
    }
   ],
   "source": [
    "train_fields_dict['train_ads']"
   ]
  },
  {
   "cell_type": "code",
   "execution_count": null,
   "metadata": {
    "collapsed": true
   },
   "outputs": [],
   "source": []
  },
  {
   "cell_type": "code",
   "execution_count": 23,
   "metadata": {
    "collapsed": false
   },
   "outputs": [
    {
     "data": {
      "text/plain": [
       "(20327801, 19794961)"
      ]
     },
     "execution_count": 23,
     "metadata": {},
     "output_type": "execute_result"
    }
   ],
   "source": [
    "max(final_val_frame.train_ads),min(final_val_frame.train_ads)"
   ]
  },
  {
   "cell_type": "markdown",
   "metadata": {},
   "source": [
    "#0.3 of the data:\n",
    "\n",
    "final_train length 26118921\n",
    "\n",
    "149.206947088\n",
    "\n",
    "59.9669141769"
   ]
  },
  {
   "cell_type": "code",
   "execution_count": 40,
   "metadata": {
    "collapsed": false
   },
   "outputs": [
    {
     "data": {
      "text/plain": [
       "20339260"
      ]
     },
     "execution_count": 40,
     "metadata": {},
     "output_type": "execute_result"
    }
   ],
   "source": [
    "min(train_fields_dict['train_dest_docs'])"
   ]
  },
  {
   "cell_type": "code",
   "execution_count": 55,
   "metadata": {
    "collapsed": false
   },
   "outputs": [
    {
     "data": {
      "text/plain": [
       "array([19931290, 19931290, 19931290, 19931290, 19931290, 19931290,\n",
       "       19931290, 19931290, 19931290, 19931290, 19931290, 19931290,\n",
       "       19931290, 19931290, 19931290, 19931290, 19931290, 19931290,\n",
       "       19931290, 19931290, 19931290, 19931290, 19931290, 19931290,\n",
       "       19931290, 19931290, 19931290, 19931290, 19931290, 19931290,\n",
       "       19931290, 19931290, 19931290, 19931290, 19931290, 19931290,\n",
       "       19931290, 19931290, 19931290, 19931290, 19931290, 19931290,\n",
       "       19931290, 19931290, 19931290, 19931290, 19931290, 19931290,\n",
       "       19931290, 19931290, 19931290, 19931290, 19931290, 19931290,\n",
       "       19931290, 19931290, 19931290, 19931290, 19931290, 19931290,\n",
       "       19931290, 19931290, 19931290, 19931290, 19931290, 19931290,\n",
       "       19931290, 19931290, 19931290, 19931290, 19931290, 19931290,\n",
       "       19931290, 19931290, 19931290, 19931290, 19931290, 19931290,\n",
       "       19931290, 19931290, 19931290, 19931290, 19931290, 19931290,\n",
       "       19931290, 19931290, 19931290, 19931290, 19931290, 19931290,\n",
       "       19931290, 19931290, 19931290, 19931290, 19931290, 19931290,\n",
       "       19931290, 19931290, 19931290, 19931290])"
      ]
     },
     "execution_count": 55,
     "metadata": {},
     "output_type": "execute_result"
    }
   ],
   "source": [
    "train_fields_dict['train_ads'][19600:19700]"
   ]
  },
  {
   "cell_type": "code",
   "execution_count": 43,
   "metadata": {
    "collapsed": false
   },
   "outputs": [
    {
     "data": {
      "text/plain": [
       "20339260"
      ]
     },
     "execution_count": 43,
     "metadata": {},
     "output_type": "execute_result"
    }
   ],
   "source": [
    "max(test_fields_dict['test_ads'])"
   ]
  },
  {
   "cell_type": "code",
   "execution_count": 44,
   "metadata": {
    "collapsed": false
   },
   "outputs": [
    {
     "data": {
      "text/plain": [
       "array([15471843, 16673234, 19473428, ..., 17425626, 16265036, 11819820])"
      ]
     },
     "execution_count": 44,
     "metadata": {},
     "output_type": "execute_result"
    }
   ],
   "source": [
    "train_fields_dict['train_users']"
   ]
  },
  {
   "cell_type": "code",
   "execution_count": 48,
   "metadata": {
    "collapsed": false,
    "scrolled": true
   },
   "outputs": [
    {
     "data": {
      "text/plain": [
       "'da19c8b40f20ca'"
      ]
     },
     "execution_count": 48,
     "metadata": {},
     "output_type": "execute_result"
    }
   ],
   "source": [
    "le['uuid'].inverse_transform(16673234)"
   ]
  },
  {
   "cell_type": "code",
   "execution_count": 46,
   "metadata": {
    "collapsed": false
   },
   "outputs": [
    {
     "data": {
      "text/plain": [
       "{'ad_id': LabelEncoder(),\n",
       " 'dest_doc_id': LabelEncoder(),\n",
       " 'docs_cats': LabelEncoder(),\n",
       " 'document_id': LabelEncoder(),\n",
       " 'geo_location': LabelEncoder(),\n",
       " 'uuid': LabelEncoder()}"
      ]
     },
     "execution_count": 46,
     "metadata": {},
     "output_type": "execute_result"
    }
   ],
   "source": [
    "le"
   ]
  },
  {
   "cell_type": "code",
   "execution_count": 38,
   "metadata": {
    "collapsed": false
   },
   "outputs": [
    {
     "data": {
      "text/plain": [
       "array([21625])"
      ]
     },
     "execution_count": 38,
     "metadata": {},
     "output_type": "execute_result"
    }
   ],
   "source": [
    "le['train_users'].transform([938164])"
   ]
  },
  {
   "cell_type": "code",
   "execution_count": null,
   "metadata": {
    "collapsed": true
   },
   "outputs": [],
   "source": [
    "938164"
   ]
  },
  {
   "cell_type": "code",
   "execution_count": 10,
   "metadata": {
    "collapsed": true
   },
   "outputs": [],
   "source": [
    "#train model\n",
    "#sudo ../../libffm/ffm-train -l 0.05 -k 20 -t 10 -r 0.2 -s 12 -p val_frame.csv train_frame.csv /datadrive/model\n"
   ]
  },
  {
   "cell_type": "code",
   "execution_count": 11,
   "metadata": {
    "collapsed": false
   },
   "outputs": [],
   "source": [
    "#predict\n"
   ]
  },
  {
   "cell_type": "code",
   "execution_count": 12,
   "metadata": {
    "collapsed": false
   },
   "outputs": [
    {
     "name": "stderr",
     "output_type": "stream",
     "text": [
      "/home/ubuntu/.local/lib/python2.7/site-packages/ipykernel/__main__.py:8: SettingWithCopyWarning: \n",
      "A value is trying to be set on a copy of a slice from a DataFrame.\n",
      "Try using .loc[row_indexer,col_indexer] = value instead\n",
      "\n",
      "See the caveats in the documentation: http://pandas.pydata.org/pandas-docs/stable/indexing.html#indexing-view-versus-copy\n"
     ]
    },
    {
     "data": {
      "text/html": [
       "<div>\n",
       "<table border=\"1\" class=\"dataframe\">\n",
       "  <thead>\n",
       "    <tr style=\"text-align: right;\">\n",
       "      <th></th>\n",
       "      <th>display_id</th>\n",
       "      <th>train_ads</th>\n",
       "      <th>clicked</th>\n",
       "      <th>likelihood</th>\n",
       "    </tr>\n",
       "  </thead>\n",
       "  <tbody>\n",
       "    <tr>\n",
       "      <th>10</th>\n",
       "      <td>3</td>\n",
       "      <td>19836377</td>\n",
       "      <td>0</td>\n",
       "      <td>0.342424</td>\n",
       "    </tr>\n",
       "    <tr>\n",
       "      <th>11</th>\n",
       "      <td>3</td>\n",
       "      <td>19836377</td>\n",
       "      <td>0</td>\n",
       "      <td>0.300943</td>\n",
       "    </tr>\n",
       "    <tr>\n",
       "      <th>12</th>\n",
       "      <td>3</td>\n",
       "      <td>19836377</td>\n",
       "      <td>0</td>\n",
       "      <td>0.307157</td>\n",
       "    </tr>\n",
       "    <tr>\n",
       "      <th>13</th>\n",
       "      <td>3</td>\n",
       "      <td>19836377</td>\n",
       "      <td>0</td>\n",
       "      <td>0.475541</td>\n",
       "    </tr>\n",
       "    <tr>\n",
       "      <th>14</th>\n",
       "      <td>3</td>\n",
       "      <td>19836377</td>\n",
       "      <td>1</td>\n",
       "      <td>0.312758</td>\n",
       "    </tr>\n",
       "  </tbody>\n",
       "</table>\n",
       "</div>"
      ],
      "text/plain": [
       "    display_id  train_ads  clicked  likelihood\n",
       "10           3   19836377        0    0.342424\n",
       "11           3   19836377        0    0.300943\n",
       "12           3   19836377        0    0.307157\n",
       "13           3   19836377        0    0.475541\n",
       "14           3   19836377        1    0.312758"
      ]
     },
     "execution_count": 12,
     "metadata": {},
     "output_type": "execute_result"
    }
   ],
   "source": [
    "#evaluate 1\n",
    "#read output\n",
    "output_list=pd.read_csv('/datadrive/output',header=None)\n",
    "\n",
    "#print len(output_list),len(lib_val_frame)\n",
    "\n",
    "test_set=val_split_frame[['display_id','train_ads','clicked']]#\n",
    "test_set['prediction']=output_list[0]\n",
    "#join to test\n",
    "\n",
    "# sort test set\n",
    "#test_set=test_set.sort(['display_id','prediction'],ascending=[True,False])\n",
    "test_set['prediction'].fillna(0)\n",
    "test_set=test_set.rename(columns = {'prediction':'likelihood'})\n",
    "test_set.head()"
   ]
  },
  {
   "cell_type": "code",
   "execution_count": 13,
   "metadata": {
    "collapsed": false,
    "scrolled": true
   },
   "outputs": [
    {
     "name": "stdout",
     "output_type": "stream",
     "text": [
      "0.0511960983276\n",
      "0.577627897263\n",
      "1.38568210602\n",
      "0.00704598426819\n",
      "0.0171511173248\n",
      "MAP: 0.483482026567\n"
     ]
    }
   ],
   "source": [
    "#evaluate 2\n",
    "#calc mapk on validation set\n",
    "util.fast_mapk(test_set) #columns: display id, likelihood,clicked"
   ]
  },
  {
   "cell_type": "code",
   "execution_count": 31,
   "metadata": {
    "collapsed": true
   },
   "outputs": [],
   "source": [
    "pkl_file = open('/datadrive/le.pickle', 'rb')\n",
    "le = pickle.load(pkl_file)"
   ]
  },
  {
   "cell_type": "code",
   "execution_count": 14,
   "metadata": {
    "collapsed": true
   },
   "outputs": [],
   "source": [
    "#prepare for submission"
   ]
  },
  {
   "cell_type": "code",
   "execution_count": 15,
   "metadata": {
    "collapsed": false
   },
   "outputs": [
    {
     "data": {
      "text/plain": [
       "<module 'util' from 'util.pyc'>"
      ]
     },
     "execution_count": 15,
     "metadata": {},
     "output_type": "execute_result"
    }
   ],
   "source": [
    "reload(util)"
   ]
  }
 ],
 "metadata": {
  "kernelspec": {
   "display_name": "Python 2",
   "language": "python",
   "name": "python2"
  },
  "language_info": {
   "codemirror_mode": {
    "name": "ipython",
    "version": 2
   },
   "file_extension": ".py",
   "mimetype": "text/x-python",
   "name": "python",
   "nbconvert_exporter": "python",
   "pygments_lexer": "ipython2",
   "version": "2.7.12+"
  }
 },
 "nbformat": 4,
 "nbformat_minor": 2
}
