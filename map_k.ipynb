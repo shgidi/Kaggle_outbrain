{
 "cells": [
  {
   "cell_type": "code",
   "execution_count": 1,
   "metadata": {
    "collapsed": true
   },
   "outputs": [],
   "source": [
    "import numpy as np \n",
    "import pandas as pd \n",
    "import time\n",
    "from util import fast_mapk"
   ]
  },
  {
   "cell_type": "code",
   "execution_count": 2,
   "metadata": {
    "collapsed": false,
    "scrolled": true
   },
   "outputs": [],
   "source": [
    "#get data\n",
    "\n",
    "df_train = pd.read_csv( \"clicks_train.csv\") #100,000\n",
    "events = pd.read_csv( \"events.csv\") #100,000"
   ]
  },
  {
   "cell_type": "code",
   "execution_count": 3,
   "metadata": {
    "collapsed": false,
    "scrolled": true
   },
   "outputs": [
    {
     "name": "stdout",
     "output_type": "stream",
     "text": [
      "2.9632499218\n",
      "10.0849268436\n",
      "8.67872405052\n"
     ]
    }
   ],
   "source": [
    "#split train test by display id\n",
    "\n",
    "t=time.time()\n",
    "msk = np.random.rand(len(df_train.display_id.unique())) < 0.8\n",
    "msk=df_train.display_id.unique()[msk]\n",
    "print time.time()-t\n",
    "t=time.time()\n",
    "train = df_train[df_train.display_id.isin([msk])]\n",
    "print time.time()-t\n",
    "t=time.time()\n",
    "val = df_train[~df_train.display_id.isin([msk])]\n",
    "print time.time()-t"
   ]
  },
  {
   "cell_type": "code",
   "execution_count": 22,
   "metadata": {
    "collapsed": false
   },
   "outputs": [
    {
     "name": "stdout",
     "output_type": "stream",
     "text": [
      "16.483412981\n",
      "14.9806599617\n"
     ]
    }
   ],
   "source": [
    "#join page views and events\n",
    "\n",
    "import time\n",
    "t=time.time()\n",
    "joined_train_clicks=train.merge(events)\n",
    "print time.time()-t\n",
    "t=time.time()\n",
    "joined_val_clicks=val.merge(events)\n",
    "print time.time()-t"
   ]
  },
  {
   "cell_type": "code",
   "execution_count": 46,
   "metadata": {
    "collapsed": false
   },
   "outputs": [],
   "source": [
    "#remove some uids because they are not in label encoder :0\n",
    "\n",
    "joined_train_clicks=joined_train_clicks[~joined_train_clicks['uuid']\\\n",
    "                                        .isin(['5cda9845a1b9be', '7e8aa06b36db6a' ,'83e9ec48908c6a', 'f4bb634c3871b9'])]\n",
    "joined_val_clicks=joined_val_clicks[~joined_val_clicks['uuid']\\\n",
    "                                        .isin(['5cda9845a1b9be', '7e8aa06b36db6a' ,'83e9ec48908c6a', 'f4bb634c3871b9','558ba104e8a37c'])]"
   ]
  },
  {
   "cell_type": "code",
   "execution_count": 47,
   "metadata": {
    "collapsed": true
   },
   "outputs": [],
   "source": [
    "#set features\n",
    "ad_ids=joined_train_clicks['ad_id'].append(joined_val_clicks['ad_id'])\n",
    "uuids=joined_train_clicks['uuid'].append(joined_val_clicks['uuid'])"
   ]
  },
  {
   "cell_type": "code",
   "execution_count": null,
   "metadata": {
    "collapsed": true
   },
   "outputs": [],
   "source": [
    "#precprocess: create label encoder for uuid and document id\n",
    "from sklearn.preprocessing import LabelEncoder\n",
    "\n",
    "le={}\n",
    "\n",
    "t=time.time()\n",
    "le['uuid']=LabelEncoder()\n",
    "le['uuid'].fit(uuids)\n",
    "print time.time()-t\n",
    "t=time.time()\n",
    "\n",
    "le['ad_id']=LabelEncoder()\n",
    "le['ad_id'].fit(ad_ids)\n",
    "print time.time()-t\n",
    "t=time.time()\n",
    "\n",
    "le['document_id']=LabelEncoder()\n",
    "le['document_id'].fit(document_ids)\n",
    "print time.time()-t\n",
    "t=time.time()\n",
    "\n",
    "le['geo_location']=LabelEncoder()\n",
    "le['geo_location'].fit(geo_locations)\n",
    "\n",
    "print time.time()-t\n",
    "\n",
    "column_diffs=[]"
   ]
  },
  {
   "cell_type": "code",
   "execution_count": 19,
   "metadata": {
    "collapsed": false,
    "scrolled": true
   },
   "outputs": [
    {
     "data": {
      "text/plain": [
       "{'ad_id': LabelEncoder(),\n",
       " 'document_id': LabelEncoder(),\n",
       " 'geo_location': LabelEncoder(),\n",
       " 'uuid': LabelEncoder()}"
      ]
     },
     "execution_count": 19,
     "metadata": {},
     "output_type": "execute_result"
    }
   ],
   "source": [
    "le"
   ]
  },
  {
   "cell_type": "code",
   "execution_count": null,
   "metadata": {
    "collapsed": true
   },
   "outputs": [],
   "source": [
    "import pickle #saved at /datadrive\n",
    "\n",
    "with open('/datadrive/le.pickle', 'wb') as f:\n",
    "    pickle.dump(le, f, -1)"
   ]
  },
  {
   "cell_type": "code",
   "execution_count": 18,
   "metadata": {
    "collapsed": false
   },
   "outputs": [],
   "source": [
    "import pickle #load encoder\n",
    "pkl_file = open('/datadrive/le.pickle', 'rb')\n",
    "le=pickle.load(pkl_file)"
   ]
  },
  {
   "cell_type": "code",
   "execution_count": 49,
   "metadata": {
    "collapsed": false
   },
   "outputs": [
    {
     "name": "stdout",
     "output_type": "stream",
     "text": [
      "5.11455488205\n",
      "27.5681819916\n"
     ]
    }
   ],
   "source": [
    "#convert feautres to int\n",
    "column_diffs=[]\n",
    "t=time.time()\n",
    "train_users=le['uuid'].transform(joined_train_clicks['uuid'])\n",
    "test_users=le['uuid'].transform(joined_val_clicks['uuid'])\n",
    "column_diffs.append(max(np.append(train_users,test_users)))\n",
    "print time.time()-t\n",
    "t=time.time()\n",
    "\n",
    "test_ads=le['ad_id'].transform(joined_val_clicks['ad_id'])+column_diffs[0]\n",
    "train_ads=le['ad_id'].transform(joined_train_clicks['ad_id'])+column_diffs[0]\n",
    "column_diffs.append(max(np.append(test_ads,train_ads)))\n",
    "print time.time()-t\n",
    "t=time.time()"
   ]
  },
  {
   "cell_type": "code",
   "execution_count": 67,
   "metadata": {
    "collapsed": false
   },
   "outputs": [
    {
     "name": "stdout",
     "output_type": "stream",
     "text": [
      "0.652989864349\n",
      "0.121386051178\n"
     ]
    }
   ],
   "source": [
    "#generate final data frames\n",
    "t=time.time()\n",
    "final_frame=pd.DataFrame({'uuid':train_users,'ad_id':train_ads,'clicked':joined_train_clicks['clicked'].astype(int)})\n",
    "print time.time()-t\n",
    "t=time.time()\n",
    "final_val_frame=pd.DataFrame({'uuid':test_users,'ad_id':test_ads,'clicked':joined_val_clicks['clicked'].astype(int)})\n",
    "print time.time()-t"
   ]
  },
  {
   "cell_type": "code",
   "execution_count": 59,
   "metadata": {
    "collapsed": true
   },
   "outputs": [],
   "source": [
    "#convert the data frame to lib ffm format\n",
    "def data_frame_to_lib_ffm(frame,key,field_list): #no le currenlty\n",
    "    new_frame=pd.DataFrame()\n",
    "    \n",
    "    for column_name in frame.columns:\n",
    "        if column_name!=key:\n",
    "            col=[str(field_list[column_name])+':'+str(row)+':1' for row in frame[column_name]]         \n",
    "        else:\n",
    "            col=frame[column_name]\n",
    "        new_frame[column_name]=col\n",
    "    return new_frame"
   ]
  },
  {
   "cell_type": "code",
   "execution_count": 69,
   "metadata": {
    "collapsed": false,
    "scrolled": false
   },
   "outputs": [
    {
     "name": "stdout",
     "output_type": "stream",
     "text": [
      "211.718625069\n",
      "50.5209860802\n"
     ]
    }
   ],
   "source": [
    "#convert to libffm\n",
    "t=time.time()\n",
    "lib_train_frame=data_frame_to_lib_ffm(final_frame,'clicked',{'clicked':-1, 'uuid':0, 'ad_id':1})\n",
    "print time.time()-t\n",
    "t=time.time()\n",
    "lib_val_frame=data_frame_to_lib_ffm(final_val_frame,'clicked',{'clicked':-1, 'uuid':0, 'ad_id':1})\n",
    "print time.time()-t\n"
   ]
  },
  {
   "cell_type": "code",
   "execution_count": 73,
   "metadata": {
    "collapsed": false
   },
   "outputs": [
    {
     "name": "stdout",
     "output_type": "stream",
     "text": [
      "84.8318698406\n",
      "16.8004848957\n"
     ]
    }
   ],
   "source": [
    "t=time.time()\n",
    "lib_train_frame[['clicked','uuid','ad_id']].to_csv('train_frame.csv',sep=' ',header=None,index=False)\n",
    "print time.time()-t\n",
    "t=time.time()\n",
    "lib_val_frame[['clicked','uuid','ad_id']].to_csv('val_frame.csv',sep=' ',header=None,index=False)\n",
    "print time.time()-t"
   ]
  },
  {
   "cell_type": "code",
   "execution_count": null,
   "metadata": {
    "collapsed": true
   },
   "outputs": [],
   "source": [
    "#read output\n",
    "output_list=pd.read_csv('output',header=None)\n",
    "\n",
    "print len(output_list),len(clicks_test)\n",
    "\n",
    "test_set=joined_test_clicks['display_id','ad_id','clicked']#\n",
    "test_set['prediction']=output_list[0]\n",
    "#join to test\n",
    "\n",
    "# sort test set\n",
    "test_set=test_set.sort(['display_id','prediction'],ascending=False)"
   ]
  },
  {
   "cell_type": "code",
   "execution_count": null,
   "metadata": {
    "collapsed": true
   },
   "outputs": [],
   "source": []
  },
  {
   "cell_type": "code",
   "execution_count": 4,
   "metadata": {
    "collapsed": false,
    "scrolled": false
   },
   "outputs": [
    {
     "name": "stdout",
     "output_type": "stream",
     "text": [
      "12.9538419247\n"
     ]
    }
   ],
   "source": [
    "#greedy algorithm\n",
    "\n",
    "# ----------- \n",
    "# model training goes here ... let's borrow from the \"pandas is cool\" script as a quick example\n",
    "# ----------- \n",
    "\n",
    "#train\n",
    "\n",
    "t=time.time()\n",
    "ad_likelihood = train.groupby('ad_id').clicked.agg(['count','sum' ]).reset_index()\n",
    "print time.time()-t\n",
    "\n",
    "M   = train.clicked.mean()\n",
    "\n",
    "ad_likelihood['likelihood'] = (ad_likelihood['sum'] + 12*M) / (12 + ad_likelihood['count'])\n"
   ]
  },
  {
   "cell_type": "code",
   "execution_count": null,
   "metadata": {
    "collapsed": true
   },
   "outputs": [],
   "source": [
    "#pandas to libffm..."
   ]
  },
  {
   "cell_type": "code",
   "execution_count": 5,
   "metadata": {
    "collapsed": false,
    "scrolled": false
   },
   "outputs": [
    {
     "name": "stdout",
     "output_type": "stream",
     "text": [
      "4.09866094589\n",
      "9.24489688873\n"
     ]
    },
    {
     "data": {
      "text/html": [
       "<div>\n",
       "<table border=\"1\" class=\"dataframe\">\n",
       "  <thead>\n",
       "    <tr style=\"text-align: right;\">\n",
       "      <th></th>\n",
       "      <th>display_id</th>\n",
       "      <th>ad_id</th>\n",
       "      <th>clicked</th>\n",
       "      <th>count</th>\n",
       "      <th>sum</th>\n",
       "      <th>likelihood</th>\n",
       "    </tr>\n",
       "  </thead>\n",
       "  <tbody>\n",
       "    <tr>\n",
       "      <th>0</th>\n",
       "      <td>12</td>\n",
       "      <td>35982</td>\n",
       "      <td>0</td>\n",
       "      <td>104.0</td>\n",
       "      <td>34.0</td>\n",
       "      <td>0.313137</td>\n",
       "    </tr>\n",
       "    <tr>\n",
       "      <th>3</th>\n",
       "      <td>12</td>\n",
       "      <td>97178</td>\n",
       "      <td>1</td>\n",
       "      <td>7905.0</td>\n",
       "      <td>1623.0</td>\n",
       "      <td>0.205295</td>\n",
       "    </tr>\n",
       "    <tr>\n",
       "      <th>5</th>\n",
       "      <td>12</td>\n",
       "      <td>211592</td>\n",
       "      <td>0</td>\n",
       "      <td>70561.0</td>\n",
       "      <td>9833.0</td>\n",
       "      <td>0.139364</td>\n",
       "    </tr>\n",
       "  </tbody>\n",
       "</table>\n",
       "</div>"
      ],
      "text/plain": [
       "   display_id   ad_id  clicked    count     sum  likelihood\n",
       "0          12   35982        0    104.0    34.0    0.313137\n",
       "3          12   97178        1   7905.0  1623.0    0.205295\n",
       "5          12  211592        0  70561.0  9833.0    0.139364"
      ]
     },
     "execution_count": 5,
     "metadata": {},
     "output_type": "execute_result"
    }
   ],
   "source": [
    "#predict\n",
    "t=time.time()\n",
    "val = val.merge(ad_likelihood, how='left')\n",
    "print time.time()-t\n",
    "\n",
    "val.likelihood.fillna(M, inplace=True)\n",
    "\n",
    "t=time.time()\n",
    "val.sort_values(['display_id', 'likelihood'], inplace=True, ascending=[True, False] )\n",
    "print time.time()-t\n",
    "val.head(3)"
   ]
  },
  {
   "cell_type": "code",
   "execution_count": 16,
   "metadata": {
    "collapsed": false,
    "scrolled": false
   },
   "outputs": [
    {
     "name": "stdout",
     "output_type": "stream",
     "text": [
      "0.0892560482025\n",
      "0.625658035278\n",
      "1.22828912735\n",
      "0.0125839710236\n",
      "0.025496006012\n",
      "MAP: 0.644582740275\n"
     ]
    }
   ],
   "source": [
    "#calc mapk on validation set\n",
    "util.fast_mapk(val) #columns: display id, likelihood,clicked"
   ]
  }
 ],
 "metadata": {
  "kernelspec": {
   "display_name": "Python 2",
   "language": "python",
   "name": "python2"
  },
  "language_info": {
   "codemirror_mode": {
    "name": "ipython",
    "version": 2
   },
   "file_extension": ".py",
   "mimetype": "text/x-python",
   "name": "python",
   "nbconvert_exporter": "python",
   "pygments_lexer": "ipython2",
   "version": "2.7.12+"
  }
 },
 "nbformat": 4,
 "nbformat_minor": 2
}
