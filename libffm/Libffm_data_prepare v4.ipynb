{
 "cells": [
  {
   "cell_type": "code",
   "execution_count": 281,
   "metadata": {
    "collapsed": false,
    "scrolled": false
   },
   "outputs": [],
   "source": [
    "import pandas as pd\n",
    "import time\n",
    "import subprocess\n",
    "model_name='/datadrive/model_all'\n",
    "files_path='/datadrive/libffm_data/'\n",
    "files_name='libffm_w_all_features'\n",
    "test_file_index=1\n",
    "train_file=files_path+files_name+'0'\n",
    "test_file=files_path+files_name+str(test_file_index)\n",
    "output_file='output'+str(test_file_index)+'_'+str(output_index)\n",
    "output_index+=1"
   ]
  },
  {
   "cell_type": "code",
   "execution_count": 167,
   "metadata": {
    "collapsed": false
   },
   "outputs": [],
   "source": [
    "output_index=1"
   ]
  },
  {
   "cell_type": "code",
   "execution_count": 133,
   "metadata": {
    "collapsed": false
   },
   "outputs": [],
   "source": [
    "#split the validation set from training...\n",
    "\n",
    "df_train = pd.read_csv(\"clicks_train.csv\") \n",
    "df_train.head()\n",
    "\n",
    "df_train_1=df_train[df_train.display_id % 10 ==test_file_index]\n",
    "df_train_1=df_train_1.reset_index()\n",
    "print 1"
   ]
  },
  {
   "cell_type": "code",
   "execution_count": null,
   "metadata": {
    "collapsed": false,
    "scrolled": false
   },
   "outputs": [],
   "source": [
    "#run the file\n",
    "t=time.time()\n",
    "ouput=subprocess.check_output(['sudo','pypy','libffm_v2.py',files_name])\n",
    "# args: file name, \n",
    "print time.time()-t"
   ]
  },
  {
   "cell_type": "code",
   "execution_count": 245,
   "metadata": {
    "collapsed": false
   },
   "outputs": [
    {
     "data": {
      "text/plain": [
       "'/datadrive/libffm_data/libffm_w_meta0'"
      ]
     },
     "execution_count": 245,
     "metadata": {},
     "output_type": "execute_result"
    }
   ],
   "source": [
    "train_file"
   ]
  },
  {
   "cell_type": "code",
   "execution_count": null,
   "metadata": {
    "collapsed": false
   },
   "outputs": [],
   "source": [
    "#train model\n",
    "\n",
    "model_param_tags={'regularization':'-l','model_depth':'-k','epcohs':'-t','learn_rate':'-r','cores':'-s',\\\n",
    "                 'validation_file':'-p'}\n",
    "model_params={'regularization':'0.002','model_depth':'16','epcohs':'13','learn_rate':'0.1','cores':'12'}\n",
    "\n",
    "t=time.time()\n",
    "#train\n",
    "results=subprocess.check_output(['sudo','../../libffm/ffm-train','-l','0.002','-k','12','-t','30','-r','0.1','-s','12'\\\n",
    "                        ,'-p',test_file,'--auto-stop',train_file,model_name])\n",
    "\n",
    "\n",
    "print 'model trained in',t-time.time()\n",
    "print results\n",
    "#sudo ../ libffm_format_feats_0 /datadrive/model_3 /datadrive/output\n",
    "#../../../libffm/ffm-train -l 0.002 -k 16 -t 13 -r 0.1 -s 12 -p libffm_format_feats_0 libffm_format_feats_1 /datadrive/model\n",
    "\n",
    "#size 2^23=8M*k=16*features=6\n",
    "#2^23*2^4*6"
   ]
  },
  {
   "cell_type": "code",
   "execution_count": 182,
   "metadata": {
    "collapsed": false
   },
   "outputs": [
    {
     "data": {
      "text/plain": [
       "'/datadrive/model9.1'"
      ]
     },
     "execution_count": 182,
     "metadata": {},
     "output_type": "execute_result"
    }
   ],
   "source": [
    "model_name"
   ]
  },
  {
   "cell_type": "code",
   "execution_count": null,
   "metadata": {
    "collapsed": false
   },
   "outputs": [],
   "source": [
    "#run the file for test\n",
    "'''\n",
    "t=time.time()\n",
    "ouput=subprocess.check_output(['sudo','pypy','libffm_v2.py',files_path+files_name])\n",
    "print time.time()-t"
   ]
  },
  {
   "cell_type": "code",
   "execution_count": null,
   "metadata": {
    "collapsed": false
   },
   "outputs": [],
   "source": [
    "print 1"
   ]
  },
  {
   "cell_type": "code",
   "execution_count": 249,
   "metadata": {
    "collapsed": false,
    "scrolled": true
   },
   "outputs": [
    {
     "name": "stdout",
     "output_type": "stream",
     "text": [
      "model predicted in 136.132448912\n",
      "logloss = 0.42866\n",
      "\n"
     ]
    }
   ],
   "source": [
    "\n",
    "#predict\n",
    "t=time.time()\n",
    "results=subprocess.check_output(['sudo','../../libffm/ffm-predict',test_file\\\n",
    "                                 ,model_name,'/datadrive/'+output_file])\n",
    "print 'model predicted in',time.time()-t\n",
    "print results"
   ]
  },
  {
   "cell_type": "code",
   "execution_count": 122,
   "metadata": {
    "collapsed": true
   },
   "outputs": [],
   "source": [
    "#for submission\n",
    "df_train_1=pd.read_csv('clicks_test.csv')"
   ]
  },
  {
   "cell_type": "code",
   "execution_count": null,
   "metadata": {
    "collapsed": false,
    "scrolled": true
   },
   "outputs": [],
   "source": [
    "#read output\n",
    "\n",
    "#ndont forget to reset index if necesary!\n",
    "\n",
    "\n",
    "output_list=pd.read_csv('/datadrive/'+output_file,header=None)\n",
    "\n",
    "print len(output_list),len(df_train_1)\n",
    "\n",
    "#test_set=df_train_1[['display_id','ad_id']]# for submission\n",
    "test_set=df_train_1[['display_id','ad_id','clicked']]\n",
    "test_set['prediction']=output_list[0]\n",
    "#join to test\n",
    "\n",
    "# sort test set\n",
    "#test_set=test_set.sort(['display_id','prediction'],ascending=[True,False])\n",
    "test_set['prediction'].fillna(0)\n",
    "test_set=test_set.rename(columns = {'prediction':'likelihood'})\n",
    "#test_set.head()"
   ]
  },
  {
   "cell_type": "code",
   "execution_count": 30,
   "metadata": {
    "collapsed": false,
    "scrolled": false
   },
   "outputs": [
    {
     "data": {
      "text/html": [
       "<div>\n",
       "<table border=\"1\" class=\"dataframe\">\n",
       "  <thead>\n",
       "    <tr style=\"text-align: right;\">\n",
       "      <th></th>\n",
       "      <th>display_id</th>\n",
       "      <th>ad_id</th>\n",
       "      <th>clicked</th>\n",
       "      <th>likelihood</th>\n",
       "    </tr>\n",
       "  </thead>\n",
       "  <tbody>\n",
       "    <tr>\n",
       "      <th>8714870</th>\n",
       "      <td>16874591</td>\n",
       "      <td>397506</td>\n",
       "      <td>0</td>\n",
       "      <td>0.454487</td>\n",
       "    </tr>\n",
       "    <tr>\n",
       "      <th>8714871</th>\n",
       "      <td>16874591</td>\n",
       "      <td>483448</td>\n",
       "      <td>0</td>\n",
       "      <td>0.525756</td>\n",
       "    </tr>\n",
       "  </tbody>\n",
       "</table>\n",
       "</div>"
      ],
      "text/plain": [
       "         display_id   ad_id  clicked  likelihood\n",
       "8714870    16874591  397506        0    0.454487\n",
       "8714871    16874591  483448        0    0.525756"
      ]
     },
     "execution_count": 30,
     "metadata": {},
     "output_type": "execute_result"
    }
   ],
   "source": [
    "#test_set['likelihood']=output_list\n",
    "test_set.tail(2) #verify its not Nan :{}"
   ]
  },
  {
   "cell_type": "code",
   "execution_count": 276,
   "metadata": {
    "collapsed": false,
    "scrolled": true
   },
   "outputs": [
    {
     "name": "stdout",
     "output_type": "stream",
     "text": [
      "0.0636279582977\n",
      "0.407561063766\n",
      "0.614371061325\n",
      "0.00341701507568\n",
      "0.00769591331482\n",
      "MAP: 0.662206862465\n",
      "output1_7\n"
     ]
    }
   ],
   "source": [
    "import util\n",
    "#calc mapk on validation set\n",
    "util.fast_mapk(test_set) #columns: display id, likelihood,clicked\n",
    "print output_file\n",
    "#0.483445906214\n",
    "#0.576126738888\n",
    "# 2feats 0.604136968694  ^24\n",
    "# 3 feats logloss 0.45885 ^23 map ?\n",
    "# 4 feats 0.44571 0.634\n",
    "# 6 feats 0.43375,train_time=7min,predict_time=5min map=0.6534\n",
    "#6,full data, 0.40, 15min train,\n",
    "# 6 feats ,train_time=3min,predict_time=1.5 min #same as above with p=22, factors=8 map:0.65237\n",
    "# 7 feats 0.43481,train_time=7min,predict_time=1.5 min #same as above with p=22, factors=8 map:6524\n",
    "# 6 feats+leak 0.42786 0.66262\n",
    "# 8 feats, leak 0.43129 0.6619\n",
    "# 7 feats added all categories to dest doc - 0.4277 - 0.6627 - slight improvment\n",
    "#10.1: added all feats from promoted content -0.43757 - 650 - output1_2\n",
    "#removed the above, added source_doc cat 0.42805, 0.6625 - no improve output1_3\n",
    "#added power 22 entity - 0.42906 - 0.6614 - no improve - output1_4\n",
    "#raised power to 23. 0.42869 train>10min 0.6618 slight... -\n",
    "#reduce power to 21 0.42889 -  0.6614 output1_5\n",
    "#p=21, source_cat removed 0.42975 - 0.6609 turns out it does help 'output1_6'\n",
    "#meta added 0.42866 0.6623 'output1_7'\n",
    "# 1&7=0.663"
   ]
  },
  {
   "cell_type": "code",
   "execution_count": 280,
   "metadata": {
    "collapsed": false,
    "scrolled": true
   },
   "outputs": [
    {
     "name": "stdout",
     "output_type": "stream",
     "text": [
      "0.0707819461823\n",
      "0.415048122406\n",
      "0.632957935333\n",
      "0.00375890731812\n",
      "0.00748991966248\n",
      "MAP: 0.662672321973\n",
      "0.0698289871216\n",
      "0.416141986847\n",
      "0.627278089523\n",
      "0.0033860206604\n",
      "0.00854706764221\n",
      "MAP: 0.662745454292\n",
      "0.0801260471344\n",
      "0.468549013138\n",
      "0.700538873672\n",
      "0.00355911254883\n",
      "0.010064125061\n",
      "MAP: 0.662327238896\n",
      "0.0712351799011\n",
      "0.422986030579\n",
      "0.629547834396\n",
      "0.00348997116089\n",
      "0.00846600532532\n",
      "MAP: 0.662437840203\n",
      "0.0664689540863\n",
      "0.410794019699\n",
      "0.630261898041\n",
      "0.00347518920898\n",
      "0.00841903686523\n",
      "MAP: 0.662336224668\n",
      "0.0685999393463\n",
      "0.416464090347\n",
      "0.631026029587\n",
      "0.00359511375427\n",
      "0.00838398933411\n",
      "MAP: 0.662210173473\n",
      "0.0707120895386\n",
      "0.414577007294\n",
      "0.634953975677\n",
      "0.00358009338379\n",
      "0.00756192207336\n",
      "MAP: 0.662530762249\n",
      "0.0725491046906\n",
      "0.419175863266\n",
      "0.629643917084\n",
      "0.00358510017395\n",
      "0.00872993469238\n",
      "MAP: 0.662144135651\n",
      "0.0718870162964\n",
      "0.422389984131\n",
      "0.607280015945\n",
      "0.00339698791504\n",
      "0.0080988407135\n",
      "MAP: 0.662363483547\n",
      "0.0774989128113\n",
      "0.448140144348\n",
      "0.706998825073\n",
      "0.00399088859558\n",
      "0.00956010818481\n",
      "MAP: 0.662181601325\n",
      "0.0575518608093\n",
      "0.406174898148\n",
      "0.639043807983\n",
      "0.00340104103088\n",
      "0.00849413871765\n",
      "MAP: 0.662021674643\n",
      "0.0570998191833\n",
      "0.39345908165\n",
      "0.63451218605\n",
      "0.00344300270081\n",
      "0.00761914253235\n",
      "MAP: 0.661417618040\n",
      "0.059149980545\n",
      "0.408033132553\n",
      "0.638890981674\n",
      "0.00345301628113\n",
      "0.00901317596436\n",
      "MAP: 0.661746520711\n",
      "0.0597231388092\n",
      "0.399622917175\n",
      "0.6310069561\n",
      "0.00354409217834\n",
      "0.00854682922363\n",
      "MAP: 0.661515951256\n",
      "0.0568561553955\n",
      "0.398413896561\n",
      "0.63108587265\n",
      "0.00364303588867\n",
      "0.0083281993866\n",
      "MAP: 0.661291136649\n",
      "0.0567729473114\n",
      "0.416657924652\n",
      "0.64742398262\n",
      "0.00356006622314\n",
      "0.00748801231384\n",
      "MAP: 0.661809459341\n",
      "0.0569109916687\n",
      "0.407166004181\n",
      "0.632251024246\n",
      "0.00344800949097\n",
      "0.00836682319641\n",
      "MAP: 0.661804071858\n",
      "0.0574040412903\n",
      "0.413342952728\n",
      "0.632592201233\n",
      "0.00348091125488\n",
      "0.00841498374939\n",
      "MAP: 0.661602208103\n",
      "0.0597560405731\n",
      "0.412875175476\n",
      "0.655961990356\n",
      "0.00340795516968\n",
      "0.0087149143219\n",
      "MAP: 0.661446343236\n",
      "0.0568962097168\n",
      "0.409450054169\n",
      "0.645943880081\n",
      "0.0034019947052\n",
      "0.0109980106354\n",
      "MAP: 0.661251293238\n",
      "0.056205034256\n",
      "0.403122901917\n",
      "0.667699813843\n",
      "0.00359797477722\n",
      "0.00745701789856\n",
      "MAP: 0.660963771100\n"
     ]
    }
   ],
   "source": [
    "#read output\n",
    "\n",
    "#ndont forget to reset index if necesary!\n",
    "\n",
    "for i in range(1,7):\n",
    "    output_list1=pd.read_csv('/datadrive/output1_'+str(i),header=None)\n",
    "    for j in range(i,7):\n",
    "        \n",
    "        output_list2=pd.read_csv('/datadrive/output1_'+str(j),header=None)\n",
    "        output_list=(output_list1+output_list2)/2\n",
    "\n",
    "        #print len(output_list),len(df_train_1)\n",
    "\n",
    "        #test_set=df_train_1[['display_id','ad_id']]# for submission\n",
    "        test_set=df_train_1[['display_id','ad_id','clicked']]\n",
    "        test_set['prediction']=output_list[0]\n",
    "        #join to test\n",
    "\n",
    "        # sort test set\n",
    "        #test_set=test_set.sort(['display_id','prediction'],ascending=[True,False])\n",
    "        test_set['prediction'].fillna(0)\n",
    "        test_set=test_set.rename(columns = {'prediction':'likelihood'})\n",
    "        #test_set.head()\n",
    "        i,j,util.fast_mapk(test_set)"
   ]
  },
  {
   "cell_type": "code",
   "execution_count": 253,
   "metadata": {
    "collapsed": true
   },
   "outputs": [],
   "source": [
    "test_set['new']=(test_set['likelihood']+test_set2['likelihood'])/2"
   ]
  },
  {
   "cell_type": "code",
   "execution_count": 264,
   "metadata": {
    "collapsed": false
   },
   "outputs": [],
   "source": [
    "#average outputs\n",
    "output_list=(output_list+output_list2)/2"
   ]
  },
  {
   "cell_type": "code",
   "execution_count": 265,
   "metadata": {
    "collapsed": false
   },
   "outputs": [
    {
     "data": {
      "text/html": [
       "<div>\n",
       "<table border=\"1\" class=\"dataframe\">\n",
       "  <thead>\n",
       "    <tr style=\"text-align: right;\">\n",
       "      <th></th>\n",
       "      <th>0</th>\n",
       "    </tr>\n",
       "  </thead>\n",
       "  <tbody>\n",
       "    <tr>\n",
       "      <th>0</th>\n",
       "      <td>0.160994</td>\n",
       "    </tr>\n",
       "    <tr>\n",
       "      <th>1</th>\n",
       "      <td>0.185767</td>\n",
       "    </tr>\n",
       "    <tr>\n",
       "      <th>2</th>\n",
       "      <td>0.343085</td>\n",
       "    </tr>\n",
       "    <tr>\n",
       "      <th>3</th>\n",
       "      <td>0.049693</td>\n",
       "    </tr>\n",
       "    <tr>\n",
       "      <th>4</th>\n",
       "      <td>0.185279</td>\n",
       "    </tr>\n",
       "    <tr>\n",
       "      <th>5</th>\n",
       "      <td>0.254314</td>\n",
       "    </tr>\n",
       "    <tr>\n",
       "      <th>6</th>\n",
       "      <td>0.277279</td>\n",
       "    </tr>\n",
       "    <tr>\n",
       "      <th>7</th>\n",
       "      <td>0.121072</td>\n",
       "    </tr>\n",
       "    <tr>\n",
       "      <th>8</th>\n",
       "      <td>0.153444</td>\n",
       "    </tr>\n",
       "    <tr>\n",
       "      <th>9</th>\n",
       "      <td>0.265559</td>\n",
       "    </tr>\n",
       "    <tr>\n",
       "      <th>10</th>\n",
       "      <td>0.157050</td>\n",
       "    </tr>\n",
       "    <tr>\n",
       "      <th>11</th>\n",
       "      <td>0.182193</td>\n",
       "    </tr>\n",
       "    <tr>\n",
       "      <th>12</th>\n",
       "      <td>0.208674</td>\n",
       "    </tr>\n",
       "    <tr>\n",
       "      <th>13</th>\n",
       "      <td>0.319271</td>\n",
       "    </tr>\n",
       "    <tr>\n",
       "      <th>14</th>\n",
       "      <td>0.493951</td>\n",
       "    </tr>\n",
       "    <tr>\n",
       "      <th>15</th>\n",
       "      <td>0.080765</td>\n",
       "    </tr>\n",
       "    <tr>\n",
       "      <th>16</th>\n",
       "      <td>0.233821</td>\n",
       "    </tr>\n",
       "    <tr>\n",
       "      <th>17</th>\n",
       "      <td>0.314433</td>\n",
       "    </tr>\n",
       "    <tr>\n",
       "      <th>18</th>\n",
       "      <td>0.441615</td>\n",
       "    </tr>\n",
       "    <tr>\n",
       "      <th>19</th>\n",
       "      <td>0.237054</td>\n",
       "    </tr>\n",
       "    <tr>\n",
       "      <th>20</th>\n",
       "      <td>0.215612</td>\n",
       "    </tr>\n",
       "    <tr>\n",
       "      <th>21</th>\n",
       "      <td>0.159161</td>\n",
       "    </tr>\n",
       "    <tr>\n",
       "      <th>22</th>\n",
       "      <td>0.242901</td>\n",
       "    </tr>\n",
       "    <tr>\n",
       "      <th>23</th>\n",
       "      <td>0.110485</td>\n",
       "    </tr>\n",
       "    <tr>\n",
       "      <th>24</th>\n",
       "      <td>0.368760</td>\n",
       "    </tr>\n",
       "    <tr>\n",
       "      <th>25</th>\n",
       "      <td>0.240891</td>\n",
       "    </tr>\n",
       "    <tr>\n",
       "      <th>26</th>\n",
       "      <td>0.108578</td>\n",
       "    </tr>\n",
       "    <tr>\n",
       "      <th>27</th>\n",
       "      <td>0.095988</td>\n",
       "    </tr>\n",
       "    <tr>\n",
       "      <th>28</th>\n",
       "      <td>0.499834</td>\n",
       "    </tr>\n",
       "    <tr>\n",
       "      <th>29</th>\n",
       "      <td>0.054176</td>\n",
       "    </tr>\n",
       "    <tr>\n",
       "      <th>...</th>\n",
       "      <td>...</td>\n",
       "    </tr>\n",
       "    <tr>\n",
       "      <th>8714842</th>\n",
       "      <td>0.286886</td>\n",
       "    </tr>\n",
       "    <tr>\n",
       "      <th>8714843</th>\n",
       "      <td>0.072860</td>\n",
       "    </tr>\n",
       "    <tr>\n",
       "      <th>8714844</th>\n",
       "      <td>0.258502</td>\n",
       "    </tr>\n",
       "    <tr>\n",
       "      <th>8714845</th>\n",
       "      <td>0.433776</td>\n",
       "    </tr>\n",
       "    <tr>\n",
       "      <th>8714846</th>\n",
       "      <td>0.103227</td>\n",
       "    </tr>\n",
       "    <tr>\n",
       "      <th>8714847</th>\n",
       "      <td>0.253586</td>\n",
       "    </tr>\n",
       "    <tr>\n",
       "      <th>8714848</th>\n",
       "      <td>0.232251</td>\n",
       "    </tr>\n",
       "    <tr>\n",
       "      <th>8714849</th>\n",
       "      <td>0.284035</td>\n",
       "    </tr>\n",
       "    <tr>\n",
       "      <th>8714850</th>\n",
       "      <td>0.151052</td>\n",
       "    </tr>\n",
       "    <tr>\n",
       "      <th>8714851</th>\n",
       "      <td>0.278796</td>\n",
       "    </tr>\n",
       "    <tr>\n",
       "      <th>8714852</th>\n",
       "      <td>0.348332</td>\n",
       "    </tr>\n",
       "    <tr>\n",
       "      <th>8714853</th>\n",
       "      <td>0.151790</td>\n",
       "    </tr>\n",
       "    <tr>\n",
       "      <th>8714854</th>\n",
       "      <td>0.485303</td>\n",
       "    </tr>\n",
       "    <tr>\n",
       "      <th>8714855</th>\n",
       "      <td>0.534601</td>\n",
       "    </tr>\n",
       "    <tr>\n",
       "      <th>8714856</th>\n",
       "      <td>0.301442</td>\n",
       "    </tr>\n",
       "    <tr>\n",
       "      <th>8714857</th>\n",
       "      <td>0.641357</td>\n",
       "    </tr>\n",
       "    <tr>\n",
       "      <th>8714858</th>\n",
       "      <td>0.290896</td>\n",
       "    </tr>\n",
       "    <tr>\n",
       "      <th>8714859</th>\n",
       "      <td>0.059480</td>\n",
       "    </tr>\n",
       "    <tr>\n",
       "      <th>8714860</th>\n",
       "      <td>0.589948</td>\n",
       "    </tr>\n",
       "    <tr>\n",
       "      <th>8714861</th>\n",
       "      <td>0.300494</td>\n",
       "    </tr>\n",
       "    <tr>\n",
       "      <th>8714862</th>\n",
       "      <td>0.352689</td>\n",
       "    </tr>\n",
       "    <tr>\n",
       "      <th>8714863</th>\n",
       "      <td>0.562113</td>\n",
       "    </tr>\n",
       "    <tr>\n",
       "      <th>8714864</th>\n",
       "      <td>0.432851</td>\n",
       "    </tr>\n",
       "    <tr>\n",
       "      <th>8714865</th>\n",
       "      <td>0.511192</td>\n",
       "    </tr>\n",
       "    <tr>\n",
       "      <th>8714866</th>\n",
       "      <td>0.106370</td>\n",
       "    </tr>\n",
       "    <tr>\n",
       "      <th>8714867</th>\n",
       "      <td>0.461429</td>\n",
       "    </tr>\n",
       "    <tr>\n",
       "      <th>8714868</th>\n",
       "      <td>0.290544</td>\n",
       "    </tr>\n",
       "    <tr>\n",
       "      <th>8714869</th>\n",
       "      <td>0.226297</td>\n",
       "    </tr>\n",
       "    <tr>\n",
       "      <th>8714870</th>\n",
       "      <td>0.399576</td>\n",
       "    </tr>\n",
       "    <tr>\n",
       "      <th>8714871</th>\n",
       "      <td>0.297483</td>\n",
       "    </tr>\n",
       "  </tbody>\n",
       "</table>\n",
       "<p>8714872 rows × 1 columns</p>\n",
       "</div>"
      ],
      "text/plain": [
       "                0\n",
       "0        0.160994\n",
       "1        0.185767\n",
       "2        0.343085\n",
       "3        0.049693\n",
       "4        0.185279\n",
       "5        0.254314\n",
       "6        0.277279\n",
       "7        0.121072\n",
       "8        0.153444\n",
       "9        0.265559\n",
       "10       0.157050\n",
       "11       0.182193\n",
       "12       0.208674\n",
       "13       0.319271\n",
       "14       0.493951\n",
       "15       0.080765\n",
       "16       0.233821\n",
       "17       0.314433\n",
       "18       0.441615\n",
       "19       0.237054\n",
       "20       0.215612\n",
       "21       0.159161\n",
       "22       0.242901\n",
       "23       0.110485\n",
       "24       0.368760\n",
       "25       0.240891\n",
       "26       0.108578\n",
       "27       0.095988\n",
       "28       0.499834\n",
       "29       0.054176\n",
       "...           ...\n",
       "8714842  0.286886\n",
       "8714843  0.072860\n",
       "8714844  0.258502\n",
       "8714845  0.433776\n",
       "8714846  0.103227\n",
       "8714847  0.253586\n",
       "8714848  0.232251\n",
       "8714849  0.284035\n",
       "8714850  0.151052\n",
       "8714851  0.278796\n",
       "8714852  0.348332\n",
       "8714853  0.151790\n",
       "8714854  0.485303\n",
       "8714855  0.534601\n",
       "8714856  0.301442\n",
       "8714857  0.641357\n",
       "8714858  0.290896\n",
       "8714859  0.059480\n",
       "8714860  0.589948\n",
       "8714861  0.300494\n",
       "8714862  0.352689\n",
       "8714863  0.562113\n",
       "8714864  0.432851\n",
       "8714865  0.511192\n",
       "8714866  0.106370\n",
       "8714867  0.461429\n",
       "8714868  0.290544\n",
       "8714869  0.226297\n",
       "8714870  0.399576\n",
       "8714871  0.297483\n",
       "\n",
       "[8714872 rows x 1 columns]"
      ]
     },
     "execution_count": 265,
     "metadata": {},
     "output_type": "execute_result"
    }
   ],
   "source": [
    "output_list"
   ]
  },
  {
   "cell_type": "code",
   "execution_count": 126,
   "metadata": {
    "collapsed": false
   },
   "outputs": [],
   "source": [
    "#make a submission\n",
    "first=1\n",
    "f = open('submission','w')\n",
    "f.write('display_id,ad_id')\n",
    "for item in test_set.iterrows():\n",
    "    if first or item[1]['display_id']<>pred_dis_id:\n",
    "        #print item\n",
    "        f.write('\\n')\n",
    "        f.write(str(int(item[1]['display_id']))+',')\n",
    "    first=0\n",
    "    pred_dis_id=item[1]['display_id']    \n",
    "    f.write(str(int(item[1]['ad_id']))+' ') \n",
    "f.close()"
   ]
  },
  {
   "cell_type": "code",
   "execution_count": 188,
   "metadata": {
    "collapsed": false
   },
   "outputs": [],
   "source": [
    "#item[1]\n",
    "import pandas as pd\n"
   ]
  },
  {
   "cell_type": "code",
   "execution_count": null,
   "metadata": {
    "collapsed": true
   },
   "outputs": [],
   "source": []
  }
 ],
 "metadata": {
  "kernelspec": {
   "display_name": "Python 2",
   "language": "python",
   "name": "python2"
  },
  "language_info": {
   "codemirror_mode": {
    "name": "ipython",
    "version": 2
   },
   "file_extension": ".py",
   "mimetype": "text/x-python",
   "name": "python",
   "nbconvert_exporter": "python",
   "pygments_lexer": "ipython2",
   "version": "2.7.12+"
  }
 },
 "nbformat": 4,
 "nbformat_minor": 2
}
