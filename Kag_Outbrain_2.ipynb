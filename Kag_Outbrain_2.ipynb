{
 "cells": [
  {
   "cell_type": "code",
   "execution_count": 21,
   "metadata": {
    "collapsed": false
   },
   "outputs": [],
   "source": [
    "def calc_map(frame): #columns #display_id,clicked,prediciton\n",
    "    pred_id=0\n",
    "    i=1\n",
    "    sum_=0\n",
    "    p_k=0\n",
    "    clicks=0\n",
    "    display_ids=[]\n",
    "    ranks=[]\n",
    "    for row in frame:\n",
    "        if row['display_id']==pred_id:\n",
    "            if row['clicked']==1:\n",
    "                #print row\n",
    "                clicks+=1\n",
    "                p_k=clicks*1.0/i\n",
    "                sum_+=p_k\n",
    "                display_ids.append(row['display_id'])\n",
    "                ranks.append(i)\n",
    "                \n",
    "            i+=1\n",
    "        else:\n",
    "            pred_id=row['display_id']\n",
    "            clicks=0\n",
    "            p_k=0\n",
    "            i=1\n",
    "        \n",
    "    return sum_,display_ids,ranks"
   ]
  },
  {
   "cell_type": "code",
   "execution_count": 20,
   "metadata": {
    "collapsed": false
   },
   "outputs": [],
   "source": [
    "def frame_to_lib_ffm(frame,key,field_list): #no le currenlty\n",
    "    new_frame=sframe.SFrame()\n",
    "    \n",
    "    for column_name in frame.column_names():\n",
    "        if column_name!=key:\n",
    "            col=[str(field_list[column_name])+':'+str(row)+':1' for row in frame[column_name]]         \n",
    "        else:\n",
    "            col=frame[column_name]\n",
    "        new_frame[column_name]=col\n",
    "    return new_frame"
   ]
  },
  {
   "cell_type": "code",
   "execution_count": 4,
   "metadata": {
    "collapsed": false,
    "scrolled": true
   },
   "outputs": [
    {
     "name": "stdout",
     "output_type": "stream",
     "text": [
      "# File sizes\n",
      "small_test_frame.csv          47.0MB\n",
      "Kag_Outbrain_2.ipynb          0.0MB\n",
      "clicks_test.csv               506.0MB\n",
      "documents_categories.csv      118.0MB\n",
      "output                        160.0MB\n",
      ".ipynb_checkpoints            0.0MB\n",
      "clicks_train.csv              1486.0MB\n",
      "a.out                         0.0MB\n",
      "small1_test_frame.csv         70.0MB\n",
      "train.csv                     3725.0MB\n",
      "Kag_Outbrain.ipynb            0.0MB\n",
      "small_train_libffm.csv        23.0MB\n",
      "small1_train_frame.csv        70.0MB\n",
      "page_views_sample.csv         454.0MB\n",
      "events.csv                    1208.0MB\n",
      "documents_topics.csv          339.0MB\n",
      "documents_meta.csv            89.0MB\n",
      "a                             0.0MB\n",
      "promoted_content.csv          13.0MB\n",
      "small_test_libffm.csv         25.0MB\n",
      "model_w_shift                 358.0MB\n",
      "nohup.out                     0.0MB\n",
      "no_le_frame.csv               23.0MB\n",
      "backtrace.0                   0.0MB\n",
      "test.ipynb                    0.0MB\n",
      "documents_entities.csv        324.0MB\n",
      "myfile                        8.0MB\n",
      "submission                    279.0MB\n",
      "small_train_frame.csv         47.0MB\n",
      "val.csv                       931.0MB\n"
     ]
    }
   ],
   "source": [
    "import numpy as np # linear algebra\n",
    "import pandas as pd # data processing, CSV file I/O (e.g. pd.read_csv)\n",
    "import os\n",
    "import gc # We're gonna be clearing memory a lot\n",
    "import matplotlib.pyplot as plt\n",
    "import seaborn as sns\n",
    "import sframe\n",
    "from sklearn.preprocessing import LabelEncoder\n",
    "\n",
    "%matplotlib inline\n",
    "\n",
    "p = sns.color_palette()\n",
    "dir=os.getcwd()\n",
    "\n",
    "print('# File sizes')\n",
    "for f in os.listdir(dir):\n",
    "    if 'zip' not in f:\n",
    "        print(f.ljust(30) + str(round(os.path.getsize(dir+'/' + f) / 1000000, 2)) + 'MB')\n",
    "        \n",
    "#../../libffm/ffm-train -l 0.002 -k 16 -t 30 -r 0.1 -s 12 -p small_test_frame.csv small_train_frame.csv model_w_shift"
   ]
  },
  {
   "cell_type": "code",
   "execution_count": 5,
   "metadata": {
    "collapsed": false,
    "scrolled": true
   },
   "outputs": [
    {
     "name": "stdout",
     "output_type": "stream",
     "text": [
      "------------------------------------------------------\n",
      "Inferred types from first 100 line(s) of file as \n",
      "column_type_hints=[int,str,int,int,int,str]\n",
      "If parsing fails due to incorrect types, you can correct\n",
      "the inferred type list above and pass it to read_csv in\n",
      "the column_type_hints argument\n",
      "------------------------------------------------------\n"
     ]
    },
    {
     "data": {
      "text/html": [
       "<pre>Unable to parse line \"303066,83e9ec48908c6a,968149,28799999,\\N,US>VA>511\"</pre>"
      ],
      "text/plain": [
       "Unable to parse line \"303066,83e9ec48908c6a,968149,28799999,\\N,US>VA>511\""
      ]
     },
     "metadata": {},
     "output_type": "display_data"
    },
    {
     "data": {
      "text/html": [
       "<pre>Read 1061339 lines. Lines per second: 689849</pre>"
      ],
      "text/plain": [
       "Read 1061339 lines. Lines per second: 689849"
      ]
     },
     "metadata": {},
     "output_type": "display_data"
    },
    {
     "data": {
      "text/html": [
       "<pre>Unable to parse line \"11328496,7e8aa06b36db6a,1827718,752399961,\\N,US>KY>529\"</pre>"
      ],
      "text/plain": [
       "Unable to parse line \"11328496,7e8aa06b36db6a,1827718,752399961,\\N,US>KY>529\""
      ]
     },
     "metadata": {},
     "output_type": "display_data"
    },
    {
     "data": {
      "text/html": [
       "<pre>Read 12198726 lines. Lines per second: 1.85074e+06</pre>"
      ],
      "text/plain": [
       "Read 12198726 lines. Lines per second: 1.85074e+06"
      ]
     },
     "metadata": {},
     "output_type": "display_data"
    },
    {
     "data": {
      "text/html": [
       "<pre>Unable to parse line \"13489553,5cda9845a1b9be,2624774,896400000,\\N,US>IN>527\"</pre>"
      ],
      "text/plain": [
       "Unable to parse line \"13489553,5cda9845a1b9be,2624774,896400000,\\N,US>IN>527\""
      ]
     },
     "metadata": {},
     "output_type": "display_data"
    },
    {
     "data": {
      "text/html": [
       "<pre>Unable to parse line \"14004328,f4bb634c3871b9,635051,921599944,\\N,US>NY>501\"</pre>"
      ],
      "text/plain": [
       "Unable to parse line \"14004328,f4bb634c3871b9,635051,921599944,\\N,US>NY>501\""
      ]
     },
     "metadata": {},
     "output_type": "display_data"
    },
    {
     "data": {
      "text/html": [
       "<pre>Unable to parse line \"15056922,558ba104e8a37c,2746860,997199999,\\N,US>MA>506\"</pre>"
      ],
      "text/plain": [
       "Unable to parse line \"15056922,558ba104e8a37c,2746860,997199999,\\N,US>MA>506\""
      ]
     },
     "metadata": {},
     "output_type": "display_data"
    },
    {
     "data": {
      "text/html": [
       "<pre>Read 23070168 lines. Lines per second: 1.99161e+06</pre>"
      ],
      "text/plain": [
       "Read 23070168 lines. Lines per second: 1.99161e+06"
      ]
     },
     "metadata": {},
     "output_type": "display_data"
    },
    {
     "data": {
      "text/html": [
       "<pre>5 lines failed to parse correctly</pre>"
      ],
      "text/plain": [
       "5 lines failed to parse correctly"
      ]
     },
     "metadata": {},
     "output_type": "display_data"
    },
    {
     "data": {
      "text/html": [
       "<pre>Finished parsing file /home/ubuntu/Notebooks/kaggle_outbrain/events.csv</pre>"
      ],
      "text/plain": [
       "Finished parsing file /home/ubuntu/Notebooks/kaggle_outbrain/events.csv"
      ]
     },
     "metadata": {},
     "output_type": "display_data"
    },
    {
     "data": {
      "text/html": [
       "<pre>Parsing completed. Parsed 23120121 lines in 11.6032 secs.</pre>"
      ],
      "text/plain": [
       "Parsing completed. Parsed 23120121 lines in 11.6032 secs."
      ]
     },
     "metadata": {},
     "output_type": "display_data"
    },
    {
     "data": {
      "text/html": [
       "<pre>Finished parsing file /home/ubuntu/Notebooks/kaggle_outbrain/clicks_test.csv</pre>"
      ],
      "text/plain": [
       "Finished parsing file /home/ubuntu/Notebooks/kaggle_outbrain/clicks_test.csv"
      ]
     },
     "metadata": {},
     "output_type": "display_data"
    },
    {
     "data": {
      "text/html": [
       "<pre>Parsing completed. Parsed 100 lines in 0.536853 secs.</pre>"
      ],
      "text/plain": [
       "Parsing completed. Parsed 100 lines in 0.536853 secs."
      ]
     },
     "metadata": {},
     "output_type": "display_data"
    },
    {
     "name": "stdout",
     "output_type": "stream",
     "text": [
      "------------------------------------------------------\n",
      "Inferred types from first 100 line(s) of file as \n",
      "column_type_hints=[int,int]\n",
      "If parsing fails due to incorrect types, you can correct\n",
      "the inferred type list above and pass it to read_csv in\n",
      "the column_type_hints argument\n",
      "------------------------------------------------------\n"
     ]
    },
    {
     "data": {
      "text/html": [
       "<pre>Read 26665442 lines. Lines per second: 6.10301e+06</pre>"
      ],
      "text/plain": [
       "Read 26665442 lines. Lines per second: 6.10301e+06"
      ]
     },
     "metadata": {},
     "output_type": "display_data"
    },
    {
     "data": {
      "text/html": [
       "<pre>Finished parsing file /home/ubuntu/Notebooks/kaggle_outbrain/clicks_test.csv</pre>"
      ],
      "text/plain": [
       "Finished parsing file /home/ubuntu/Notebooks/kaggle_outbrain/clicks_test.csv"
      ]
     },
     "metadata": {},
     "output_type": "display_data"
    },
    {
     "data": {
      "text/html": [
       "<pre>Parsing completed. Parsed 32225162 lines in 4.83705 secs.</pre>"
      ],
      "text/plain": [
       "Parsing completed. Parsed 32225162 lines in 4.83705 secs."
      ]
     },
     "metadata": {},
     "output_type": "display_data"
    },
    {
     "data": {
      "text/html": [
       "<pre>Finished parsing file /home/ubuntu/Notebooks/kaggle_outbrain/page_views_sample.csv</pre>"
      ],
      "text/plain": [
       "Finished parsing file /home/ubuntu/Notebooks/kaggle_outbrain/page_views_sample.csv"
      ]
     },
     "metadata": {},
     "output_type": "display_data"
    },
    {
     "data": {
      "text/html": [
       "<pre>Parsing completed. Parsed 100 lines in 0.974791 secs.</pre>"
      ],
      "text/plain": [
       "Parsing completed. Parsed 100 lines in 0.974791 secs."
      ]
     },
     "metadata": {},
     "output_type": "display_data"
    },
    {
     "name": "stdout",
     "output_type": "stream",
     "text": [
      "------------------------------------------------------\n",
      "Inferred types from first 100 line(s) of file as \n",
      "column_type_hints=[str,int,int,int,str,int]\n",
      "If parsing fails due to incorrect types, you can correct\n",
      "the inferred type list above and pass it to read_csv in\n",
      "the column_type_hints argument\n",
      "------------------------------------------------------\n"
     ]
    },
    {
     "data": {
      "text/html": [
       "<pre>Read 6921161 lines. Lines per second: 2.10372e+06</pre>"
      ],
      "text/plain": [
       "Read 6921161 lines. Lines per second: 2.10372e+06"
      ]
     },
     "metadata": {},
     "output_type": "display_data"
    },
    {
     "data": {
      "text/html": [
       "<pre>Finished parsing file /home/ubuntu/Notebooks/kaggle_outbrain/page_views_sample.csv</pre>"
      ],
      "text/plain": [
       "Finished parsing file /home/ubuntu/Notebooks/kaggle_outbrain/page_views_sample.csv"
      ]
     },
     "metadata": {},
     "output_type": "display_data"
    },
    {
     "data": {
      "text/html": [
       "<pre>Parsing completed. Parsed 9999999 lines in 4.51313 secs.</pre>"
      ],
      "text/plain": [
       "Parsing completed. Parsed 9999999 lines in 4.51313 secs."
      ]
     },
     "metadata": {},
     "output_type": "display_data"
    },
    {
     "data": {
      "text/html": [
       "<pre>Finished parsing file /home/ubuntu/Notebooks/kaggle_outbrain/clicks_train.csv</pre>"
      ],
      "text/plain": [
       "Finished parsing file /home/ubuntu/Notebooks/kaggle_outbrain/clicks_train.csv"
      ]
     },
     "metadata": {},
     "output_type": "display_data"
    },
    {
     "data": {
      "text/html": [
       "<pre>Parsing completed. Parsed 100 lines in 0.567187 secs.</pre>"
      ],
      "text/plain": [
       "Parsing completed. Parsed 100 lines in 0.567187 secs."
      ]
     },
     "metadata": {},
     "output_type": "display_data"
    },
    {
     "name": "stdout",
     "output_type": "stream",
     "text": [
      "------------------------------------------------------\n",
      "Inferred types from first 100 line(s) of file as \n",
      "column_type_hints=[int,int,int]\n",
      "If parsing fails due to incorrect types, you can correct\n",
      "the inferred type list above and pass it to read_csv in\n",
      "the column_type_hints argument\n",
      "------------------------------------------------------\n"
     ]
    },
    {
     "data": {
      "text/html": [
       "<pre>Read 16032927 lines. Lines per second: 5.18149e+06</pre>"
      ],
      "text/plain": [
       "Read 16032927 lines. Lines per second: 5.18149e+06"
      ]
     },
     "metadata": {},
     "output_type": "display_data"
    },
    {
     "data": {
      "text/html": [
       "<pre>Read 47416685 lines. Lines per second: 5.87525e+06</pre>"
      ],
      "text/plain": [
       "Read 47416685 lines. Lines per second: 5.87525e+06"
      ]
     },
     "metadata": {},
     "output_type": "display_data"
    },
    {
     "data": {
      "text/html": [
       "<pre>Read 80175120 lines. Lines per second: 5.92408e+06</pre>"
      ],
      "text/plain": [
       "Read 80175120 lines. Lines per second: 5.92408e+06"
      ]
     },
     "metadata": {},
     "output_type": "display_data"
    },
    {
     "data": {
      "text/html": [
       "<pre>Finished parsing file /home/ubuntu/Notebooks/kaggle_outbrain/clicks_train.csv</pre>"
      ],
      "text/plain": [
       "Finished parsing file /home/ubuntu/Notebooks/kaggle_outbrain/clicks_train.csv"
      ]
     },
     "metadata": {},
     "output_type": "display_data"
    },
    {
     "data": {
      "text/html": [
       "<pre>Parsing completed. Parsed 87141731 lines in 14.4075 secs.</pre>"
      ],
      "text/plain": [
       "Parsing completed. Parsed 87141731 lines in 14.4075 secs."
      ]
     },
     "metadata": {},
     "output_type": "display_data"
    }
   ],
   "source": [
    "events=sframe.SFrame.read_csv('events.csv')\n",
    "clicks_test=sframe.SFrame.read_csv('clicks_test.csv')\n",
    "page_views=sframe.SFrame.read_csv('page_views_sample.csv')\n",
    "clicks_train=sframe.SFrame.read_csv('clicks_train.csv')"
   ]
  },
  {
   "cell_type": "code",
   "execution_count": 6,
   "metadata": {
    "collapsed": false,
    "scrolled": true
   },
   "outputs": [],
   "source": [
    "#take only part of the data\n",
    "unique_display_ids=clicks_train['display_id'].unique()\n",
    "displays=300000\n",
    "sample_ids_train=unique_display_ids[:displays]\n",
    "sample_ids_val=unique_display_ids[displays+1:displays*2]"
   ]
  },
  {
   "cell_type": "code",
   "execution_count": 7,
   "metadata": {
    "collapsed": false,
    "scrolled": true
   },
   "outputs": [],
   "source": [
    "#split\n",
    "len(clicks_train)\n",
    "clicks_t_1=clicks_train.filter_by(sample_ids_train,'display_id')\n",
    "clicks_t_2=clicks_train.filter_by(sample_ids_val,'display_id')"
   ]
  },
  {
   "cell_type": "code",
   "execution_count": 6,
   "metadata": {
    "collapsed": false
   },
   "outputs": [
    {
     "name": "stdout",
     "output_type": "stream",
     "text": [
      "112.029255152\n",
      "43.5349359512\n"
     ]
    }
   ],
   "source": [
    "#make joined full data\n",
    "import time\n",
    "t=time.time()\n",
    "joined_train_clicks=clicks_train.join(events)\n",
    "print time.time()-t\n",
    "t=time.time()\n",
    "joined_test_clicks=clicks_test.join(events)\n",
    "print time.time()-t"
   ]
  },
  {
   "cell_type": "code",
   "execution_count": 8,
   "metadata": {
    "collapsed": true
   },
   "outputs": [],
   "source": [
    "#make joined partial\n",
    "joined_train_clicks=clicks_t_1.join(events)\n",
    "joined_test_clicks=clicks_t_2.join(events)"
   ]
  },
  {
   "cell_type": "code",
   "execution_count": 7,
   "metadata": {
    "collapsed": false
   },
   "outputs": [],
   "source": [
    "#set features\n",
    "ad_ids=joined_train_clicks['ad_id'].append(joined_test_clicks['ad_id'])\n",
    "uuids=joined_train_clicks['uuid'].append(joined_test_clicks['uuid'])\n",
    "#set side feauters\n",
    "document_ids=joined_train_clicks['document_id'].append(joined_test_clicks['document_id'])\n",
    "geo_locations=joined_train_clicks['geo_location'].append(joined_test_clicks['geo_location'])"
   ]
  },
  {
   "cell_type": "code",
   "execution_count": 8,
   "metadata": {
    "collapsed": false,
    "scrolled": true
   },
   "outputs": [
    {
     "name": "stdout",
     "output_type": "stream",
     "text": [
      "296.839234829\n",
      "67.2194120884\n",
      "60.800645113\n",
      "274.558499813\n"
     ]
    }
   ],
   "source": [
    "#precprocess: create le for uuid and document id\n",
    "\n",
    "le={}\n",
    "\n",
    "t=time.time()\n",
    "le['uuid']=LabelEncoder()\n",
    "le['uuid'].fit(uuids)\n",
    "print time.time()-t\n",
    "t=time.time()\n",
    "\n",
    "le['ad_id']=LabelEncoder()\n",
    "le['ad_id'].fit(ad_ids)\n",
    "print time.time()-t\n",
    "t=time.time()\n",
    "\n",
    "le['document_id']=LabelEncoder()\n",
    "le['document_id'].fit(document_ids)\n",
    "print time.time()-t\n",
    "t=time.time()\n",
    "\n",
    "le['geo_location']=LabelEncoder()\n",
    "le['geo_location'].fit(geo_locations)\n",
    "\n",
    "print time.time()-t\n",
    "\n",
    "column_diffs=[]"
   ]
  },
  {
   "cell_type": "code",
   "execution_count": 12,
   "metadata": {
    "collapsed": false
   },
   "outputs": [],
   "source": [
    "import pickle #saved at /datadrive\n",
    "\n",
    "with open('le.pickle', 'wb') as f:\n",
    "    pickle.dump(le, f, -1)"
   ]
  },
  {
   "cell_type": "code",
   "execution_count": 14,
   "metadata": {
    "collapsed": false
   },
   "outputs": [
    {
     "name": "stdout",
     "output_type": "stream",
     "text": [
      "386.906072855\n",
      "98.8985040188\n",
      "76.0966479778\n",
      "286.676968098\n"
     ]
    }
   ],
   "source": [
    "#convert to ints\n",
    "\n",
    "t=time.time()\n",
    "train_users=le['uuid'].transform(joined_train_clicks['uuid'])\n",
    "test_users=le['uuid'].transform(joined_test_clicks['uuid'])\n",
    "column_diffs.append(max(np.append(train_users,test_users)))\n",
    "print time.time()-t\n",
    "t=time.time()\n",
    "\n",
    "test_ads=le['ad_id'].transform(joined_test_clicks['ad_id'])+column_diffs[0]\n",
    "train_ads=le['ad_id'].transform(joined_train_clicks['ad_id'])+column_diffs[0]\n",
    "column_diffs.append(max(np.append(test_ads,train_ads)))\n",
    "print time.time()-t\n",
    "t=time.time()\n",
    "    \n",
    "test_docs=le['document_id'].transform(joined_test_clicks['document_id'])+column_diffs[1]\n",
    "train_docs=le['document_id'].transform(joined_train_clicks['document_id'])+column_diffs[1]\n",
    "column_diffs.append(max(np.append(train_docs,test_docs)))\n",
    "print time.time()-t\n",
    "t=time.time()\n",
    "    \n",
    "test_geos=le['geo_location'].transform(joined_test_clicks['geo_location'])+column_diffs[2]\n",
    "train_geos=le['geo_location'].transform(joined_train_clicks['geo_location'])+column_diffs[2]\n",
    "print time.time()-t"
   ]
  },
  {
   "cell_type": "code",
   "execution_count": 17,
   "metadata": {
    "collapsed": false,
    "scrolled": false
   },
   "outputs": [
    {
     "name": "stdout",
     "output_type": "stream",
     "text": [
      "53.1167919636\n",
      "24.3882029057\n"
     ]
    }
   ],
   "source": [
    "#generate final data frames\n",
    "t=time.time()\n",
    "final_frame=sframe.SFrame({'uuid':train_users,'ad_id':train_ads,'clicked':joined_train_clicks['clicked']\\\n",
    "                         ,'document':train_docs,'geo_location':train_geos})\n",
    "print time.time()-t\n",
    "t=time.time()\n",
    "final_test_frame=sframe.SFrame({'uuid':test_users,'ad_id':test_ads,'clicked':np.zeros(len(test_ads))\\\n",
    "                            ,'document':test_docs,'geo_location':test_geos})\n",
    "print time.time()-t"
   ]
  },
  {
   "cell_type": "code",
   "execution_count": 18,
   "metadata": {
    "collapsed": false
   },
   "outputs": [
    {
     "name": "stdout",
     "output_type": "stream",
     "text": [
      "0.00105309486389\n"
     ]
    }
   ],
   "source": [
    "#make validation set\n",
    "\n",
    "t=time.time()\n",
    "train_frame,val_frame=final_frame.random_split(0.8)\n",
    "print time.time()-t"
   ]
  },
  {
   "cell_type": "code",
   "execution_count": 22,
   "metadata": {
    "collapsed": false,
    "scrolled": true
   },
   "outputs": [
    {
     "name": "stdout",
     "output_type": "stream",
     "text": [
      "336.194636106\n",
      "87.0684099197\n",
      "150.907740831\n"
     ]
    }
   ],
   "source": [
    "#convert to libffm\n",
    "t=time.time()\n",
    "lib_train_frame=frame_to_lib_ffm(train_frame,'clicked',{'clicked':-1, 'uuid':0, 'ad_id':1,'document':2,'geo_location':3})\n",
    "print time.time()-t\n",
    "t=time.time()\n",
    "lib_val_frame=frame_to_lib_ffm(val_frame,'clicked',{'clicked':-1, 'uuid':0, 'ad_id':1,'document':2,'geo_location':3})\n",
    "print time.time()-t\n",
    "t=time.time()\n",
    "lib_test_frame=frame_to_lib_ffm(final_test_frame,'clicked',{'clicked':-1, 'uuid':0, 'ad_id':1,'document':2,'geo_location':3})\n",
    "print time.time()-t"
   ]
  },
  {
   "cell_type": "code",
   "execution_count": 24,
   "metadata": {
    "collapsed": false
   },
   "outputs": [
    {
     "name": "stdout",
     "output_type": "stream",
     "text": [
      "165.542075872\n",
      "44.2801558971\n",
      "81.3458681107\n"
     ]
    }
   ],
   "source": [
    "#no_le_frame=no_le_frame[no_le_frame['clicked','uuid', 'ad_id']]\n",
    "\n",
    "t=time.time()\n",
    "lib_train_frame['clicked','uuid','ad_id','document','geo_location'].export_csv('train_frame.csv',sep=' ',header=None)\n",
    "print time.time()-t\n",
    "t=time.time()\n",
    "lib_val_frame['clicked','uuid','ad_id','document','geo_location'].export_csv('val_frame.csv',sep=' ',header=None)\n",
    "print time.time()-t\n",
    "t=time.time()\n",
    "lib_test_frame['clicked','uuid','ad_id','document','geo_location'].export_csv('test_frame.csv',sep=' ',header=None)\n",
    "print time.time()-t\n"
   ]
  },
  {
   "cell_type": "code",
   "execution_count": 20,
   "metadata": {
    "collapsed": true
   },
   "outputs": [
    {
     "data": {
      "text/plain": [
       "0          0.194510\n",
       "1          0.039637\n",
       "2          0.297865\n",
       "3          0.093103\n",
       "4          0.348920\n",
       "5          0.263523\n",
       "6          0.061075\n",
       "7          0.147666\n",
       "8          0.082700\n",
       "9          0.143351\n",
       "10         0.159865\n",
       "11         0.067970\n",
       "12         0.482371\n",
       "13         0.328920\n",
       "14         0.060769\n",
       "15         0.264720\n",
       "16         0.633726\n",
       "17         0.136945\n",
       "18         0.038477\n",
       "19         0.182926\n",
       "20         0.142968\n",
       "21         0.080430\n",
       "22         0.047158\n",
       "23         0.053466\n",
       "24         0.445598\n",
       "25         0.218477\n",
       "26         0.313527\n",
       "27         0.045086\n",
       "28         0.310353\n",
       "29         0.388842\n",
       "             ...   \n",
       "1549630    0.195922\n",
       "1549631    0.299438\n",
       "1549632    0.101766\n",
       "1549633    0.079174\n",
       "1549634    0.084952\n",
       "1549635    0.511118\n",
       "1549636    0.605184\n",
       "1549637    0.203521\n",
       "1549638    0.100028\n",
       "1549639    0.131260\n",
       "1549640    0.253350\n",
       "1549641    0.346607\n",
       "1549642    0.278563\n",
       "1549643    0.053090\n",
       "1549644    0.070113\n",
       "1549645    0.257801\n",
       "1549646    0.102616\n",
       "1549647    0.327207\n",
       "1549648    0.202521\n",
       "1549649    0.113204\n",
       "1549650    0.165145\n",
       "1549651    0.159766\n",
       "1549652    0.124189\n",
       "1549653    0.258867\n",
       "1549654    0.538549\n",
       "1549655    0.104389\n",
       "1549656    0.231727\n",
       "1549657    0.137049\n",
       "1549658    0.108816\n",
       "1549659    0.281801\n",
       "Name: 0, dtype: float64"
      ]
     },
     "execution_count": 20,
     "metadata": {},
     "output_type": "execute_result"
    }
   ],
   "source": [
    "output_list=pd.read_csv('output',header=None)\n",
    "output_list[0]"
   ]
  },
  {
   "cell_type": "code",
   "execution_count": 31,
   "metadata": {
    "collapsed": true
   },
   "outputs": [
    {
     "name": "stdout",
     "output_type": "stream",
     "text": [
      "17427743 32225162\n"
     ]
    },
    {
     "ename": "RuntimeError",
     "evalue": "Column name clicked does not exist",
     "output_type": "error",
     "traceback": [
      "\u001b[0;31m\u001b[0m",
      "\u001b[0;31mRuntimeError\u001b[0mTraceback (most recent call last)",
      "\u001b[0;32m<ipython-input-31-f6ca4bac327e>\u001b[0m in \u001b[0;36m<module>\u001b[0;34m()\u001b[0m\n\u001b[1;32m      6\u001b[0m \u001b[0;32mprint\u001b[0m \u001b[0mlen\u001b[0m\u001b[0;34m(\u001b[0m\u001b[0moutput_list\u001b[0m\u001b[0;34m)\u001b[0m\u001b[0;34m,\u001b[0m\u001b[0mlen\u001b[0m\u001b[0;34m(\u001b[0m\u001b[0mclicks_test\u001b[0m\u001b[0;34m)\u001b[0m\u001b[0;34m\u001b[0m\u001b[0m\n\u001b[1;32m      7\u001b[0m \u001b[0;34m\u001b[0m\u001b[0m\n\u001b[0;32m----> 8\u001b[0;31m \u001b[0mtest_set\u001b[0m\u001b[0;34m=\u001b[0m\u001b[0mjoined_test_clicks\u001b[0m\u001b[0;34m[\u001b[0m\u001b[0;34m'display_id'\u001b[0m\u001b[0;34m,\u001b[0m\u001b[0;34m'ad_id'\u001b[0m\u001b[0;34m,\u001b[0m\u001b[0;34m'clicked'\u001b[0m\u001b[0;34m]\u001b[0m\u001b[0;31m#\u001b[0m\u001b[0;34m\u001b[0m\u001b[0m\n\u001b[0m\u001b[1;32m      9\u001b[0m \u001b[0mtest_set\u001b[0m\u001b[0;34m[\u001b[0m\u001b[0;34m'prediction'\u001b[0m\u001b[0;34m]\u001b[0m\u001b[0;34m=\u001b[0m\u001b[0moutput_list\u001b[0m\u001b[0;34m[\u001b[0m\u001b[0;36m0\u001b[0m\u001b[0;34m]\u001b[0m\u001b[0;34m\u001b[0m\u001b[0m\n\u001b[1;32m     10\u001b[0m \u001b[0;31m#join to test\u001b[0m\u001b[0;34m\u001b[0m\u001b[0;34m\u001b[0m\u001b[0m\n",
      "\u001b[0;32m/home/ubuntu/.local/lib/python2.7/site-packages/sframe/data_structures/sframe.pyc\u001b[0m in \u001b[0;36m__getitem__\u001b[0;34m(self, key)\u001b[0m\n\u001b[1;32m   4000\u001b[0m             \u001b[0;32mreturn\u001b[0m \u001b[0mself\u001b[0m\u001b[0;34m.\u001b[0m\u001b[0mselect_columns\u001b[0m\u001b[0;34m(\u001b[0m\u001b[0;34m[\u001b[0m\u001b[0mkey\u001b[0m\u001b[0;34m]\u001b[0m\u001b[0;34m)\u001b[0m\u001b[0;34m\u001b[0m\u001b[0m\n\u001b[1;32m   4001\u001b[0m         \u001b[0;32melif\u001b[0m \u001b[0m_is_non_string_iterable\u001b[0m\u001b[0;34m(\u001b[0m\u001b[0mkey\u001b[0m\u001b[0;34m)\u001b[0m\u001b[0;34m:\u001b[0m\u001b[0;34m\u001b[0m\u001b[0m\n\u001b[0;32m-> 4002\u001b[0;31m             \u001b[0;32mreturn\u001b[0m \u001b[0mself\u001b[0m\u001b[0;34m.\u001b[0m\u001b[0mselect_columns\u001b[0m\u001b[0;34m(\u001b[0m\u001b[0mkey\u001b[0m\u001b[0;34m)\u001b[0m\u001b[0;34m\u001b[0m\u001b[0m\n\u001b[0m\u001b[1;32m   4003\u001b[0m         \u001b[0;32melif\u001b[0m \u001b[0misinstance\u001b[0m\u001b[0;34m(\u001b[0m\u001b[0mkey\u001b[0m\u001b[0;34m,\u001b[0m \u001b[0mnumbers\u001b[0m\u001b[0;34m.\u001b[0m\u001b[0mIntegral\u001b[0m\u001b[0;34m)\u001b[0m\u001b[0;34m:\u001b[0m\u001b[0;34m\u001b[0m\u001b[0m\n\u001b[1;32m   4004\u001b[0m             \u001b[0msf_len\u001b[0m \u001b[0;34m=\u001b[0m \u001b[0mlen\u001b[0m\u001b[0;34m(\u001b[0m\u001b[0mself\u001b[0m\u001b[0;34m)\u001b[0m\u001b[0;34m\u001b[0m\u001b[0m\n",
      "\u001b[0;32m/home/ubuntu/.local/lib/python2.7/site-packages/sframe/data_structures/sframe.pyc\u001b[0m in \u001b[0;36mselect_columns\u001b[0;34m(self, keylist)\u001b[0m\n\u001b[1;32m   3654\u001b[0m         \u001b[0;32mfor\u001b[0m \u001b[0mi\u001b[0m \u001b[0;32min\u001b[0m \u001b[0mrequested_str_columns\u001b[0m\u001b[0;34m:\u001b[0m\u001b[0;34m\u001b[0m\u001b[0m\n\u001b[1;32m   3655\u001b[0m             \u001b[0;32mif\u001b[0m \u001b[0mi\u001b[0m \u001b[0;32mnot\u001b[0m \u001b[0;32min\u001b[0m \u001b[0mcolumn_names_set\u001b[0m\u001b[0;34m:\u001b[0m\u001b[0;34m\u001b[0m\u001b[0m\n\u001b[0;32m-> 3656\u001b[0;31m                 \u001b[0;32mraise\u001b[0m \u001b[0mRuntimeError\u001b[0m\u001b[0;34m(\u001b[0m\u001b[0;34m\"Column name \"\u001b[0m \u001b[0;34m+\u001b[0m  \u001b[0mi\u001b[0m \u001b[0;34m+\u001b[0m \u001b[0;34m\" does not exist\"\u001b[0m\u001b[0;34m)\u001b[0m\u001b[0;34m\u001b[0m\u001b[0m\n\u001b[0m\u001b[1;32m   3657\u001b[0m \u001b[0;34m\u001b[0m\u001b[0m\n\u001b[1;32m   3658\u001b[0m         \u001b[0;31m# Make sure there are no duplicates keys\u001b[0m\u001b[0;34m\u001b[0m\u001b[0;34m\u001b[0m\u001b[0m\n",
      "\u001b[0;31mRuntimeError\u001b[0m: Column name clicked does not exist"
     ]
    }
   ],
   "source": [
    "#read prediction and parse it\n",
    "\n",
    "# 1read output\n",
    "output_list=pd.read_csv('output_val',header=None)\n",
    "\n",
    "print len(output_list),len(clicks_test)\n",
    "\n",
    "test_set=joined_test_clicks['display_id','ad_id','clicked']#\n",
    "test_set['prediction']=output_list[0]\n",
    "#join to test\n",
    "\n",
    "# sort test set\n",
    "test_set=test_set.sort(['display_id','prediction'],ascending=False)"
   ]
  },
  {
   "cell_type": "code",
   "execution_count": 34,
   "metadata": {
    "collapsed": false
   },
   "outputs": [
    {
     "name": "stdout",
     "output_type": "stream",
     "text": [
      "17427743 32225162\n"
     ]
    },
    {
     "ename": "RuntimeError",
     "evalue": "Column name display_id does not exist",
     "output_type": "error",
     "traceback": [
      "\u001b[0;31m\u001b[0m",
      "\u001b[0;31mRuntimeError\u001b[0mTraceback (most recent call last)",
      "\u001b[0;32m<ipython-input-34-3f6df026f876>\u001b[0m in \u001b[0;36m<module>\u001b[0;34m()\u001b[0m\n\u001b[1;32m      7\u001b[0m \u001b[0;32mprint\u001b[0m \u001b[0mlen\u001b[0m\u001b[0;34m(\u001b[0m\u001b[0moutput_list\u001b[0m\u001b[0;34m)\u001b[0m\u001b[0;34m,\u001b[0m\u001b[0mlen\u001b[0m\u001b[0;34m(\u001b[0m\u001b[0mclicks_test\u001b[0m\u001b[0;34m)\u001b[0m\u001b[0;34m\u001b[0m\u001b[0m\n\u001b[1;32m      8\u001b[0m \u001b[0;34m\u001b[0m\u001b[0m\n\u001b[0;32m----> 9\u001b[0;31m \u001b[0mtest_set\u001b[0m\u001b[0;34m=\u001b[0m\u001b[0mval_frame\u001b[0m\u001b[0;34m[\u001b[0m\u001b[0;34m'display_id'\u001b[0m\u001b[0;34m,\u001b[0m\u001b[0;34m'ad_id'\u001b[0m\u001b[0;34m,\u001b[0m\u001b[0;34m'clicked'\u001b[0m\u001b[0;34m]\u001b[0m\u001b[0;31m#\u001b[0m\u001b[0;34m\u001b[0m\u001b[0m\n\u001b[0m\u001b[1;32m     10\u001b[0m \u001b[0mtest_set\u001b[0m\u001b[0;34m[\u001b[0m\u001b[0;34m'prediction'\u001b[0m\u001b[0;34m]\u001b[0m\u001b[0;34m=\u001b[0m\u001b[0moutput_list\u001b[0m\u001b[0;34m[\u001b[0m\u001b[0;36m0\u001b[0m\u001b[0;34m]\u001b[0m\u001b[0;34m\u001b[0m\u001b[0m\n\u001b[1;32m     11\u001b[0m \u001b[0;31m#join to test\u001b[0m\u001b[0;34m\u001b[0m\u001b[0;34m\u001b[0m\u001b[0m\n",
      "\u001b[0;32m/home/ubuntu/.local/lib/python2.7/site-packages/sframe/data_structures/sframe.pyc\u001b[0m in \u001b[0;36m__getitem__\u001b[0;34m(self, key)\u001b[0m\n\u001b[1;32m   4000\u001b[0m             \u001b[0;32mreturn\u001b[0m \u001b[0mself\u001b[0m\u001b[0;34m.\u001b[0m\u001b[0mselect_columns\u001b[0m\u001b[0;34m(\u001b[0m\u001b[0;34m[\u001b[0m\u001b[0mkey\u001b[0m\u001b[0;34m]\u001b[0m\u001b[0;34m)\u001b[0m\u001b[0;34m\u001b[0m\u001b[0m\n\u001b[1;32m   4001\u001b[0m         \u001b[0;32melif\u001b[0m \u001b[0m_is_non_string_iterable\u001b[0m\u001b[0;34m(\u001b[0m\u001b[0mkey\u001b[0m\u001b[0;34m)\u001b[0m\u001b[0;34m:\u001b[0m\u001b[0;34m\u001b[0m\u001b[0m\n\u001b[0;32m-> 4002\u001b[0;31m             \u001b[0;32mreturn\u001b[0m \u001b[0mself\u001b[0m\u001b[0;34m.\u001b[0m\u001b[0mselect_columns\u001b[0m\u001b[0;34m(\u001b[0m\u001b[0mkey\u001b[0m\u001b[0;34m)\u001b[0m\u001b[0;34m\u001b[0m\u001b[0m\n\u001b[0m\u001b[1;32m   4003\u001b[0m         \u001b[0;32melif\u001b[0m \u001b[0misinstance\u001b[0m\u001b[0;34m(\u001b[0m\u001b[0mkey\u001b[0m\u001b[0;34m,\u001b[0m \u001b[0mnumbers\u001b[0m\u001b[0;34m.\u001b[0m\u001b[0mIntegral\u001b[0m\u001b[0;34m)\u001b[0m\u001b[0;34m:\u001b[0m\u001b[0;34m\u001b[0m\u001b[0m\n\u001b[1;32m   4004\u001b[0m             \u001b[0msf_len\u001b[0m \u001b[0;34m=\u001b[0m \u001b[0mlen\u001b[0m\u001b[0;34m(\u001b[0m\u001b[0mself\u001b[0m\u001b[0;34m)\u001b[0m\u001b[0;34m\u001b[0m\u001b[0m\n",
      "\u001b[0;32m/home/ubuntu/.local/lib/python2.7/site-packages/sframe/data_structures/sframe.pyc\u001b[0m in \u001b[0;36mselect_columns\u001b[0;34m(self, keylist)\u001b[0m\n\u001b[1;32m   3654\u001b[0m         \u001b[0;32mfor\u001b[0m \u001b[0mi\u001b[0m \u001b[0;32min\u001b[0m \u001b[0mrequested_str_columns\u001b[0m\u001b[0;34m:\u001b[0m\u001b[0;34m\u001b[0m\u001b[0m\n\u001b[1;32m   3655\u001b[0m             \u001b[0;32mif\u001b[0m \u001b[0mi\u001b[0m \u001b[0;32mnot\u001b[0m \u001b[0;32min\u001b[0m \u001b[0mcolumn_names_set\u001b[0m\u001b[0;34m:\u001b[0m\u001b[0;34m\u001b[0m\u001b[0m\n\u001b[0;32m-> 3656\u001b[0;31m                 \u001b[0;32mraise\u001b[0m \u001b[0mRuntimeError\u001b[0m\u001b[0;34m(\u001b[0m\u001b[0;34m\"Column name \"\u001b[0m \u001b[0;34m+\u001b[0m  \u001b[0mi\u001b[0m \u001b[0;34m+\u001b[0m \u001b[0;34m\" does not exist\"\u001b[0m\u001b[0;34m)\u001b[0m\u001b[0;34m\u001b[0m\u001b[0m\n\u001b[0m\u001b[1;32m   3657\u001b[0m \u001b[0;34m\u001b[0m\u001b[0m\n\u001b[1;32m   3658\u001b[0m         \u001b[0;31m# Make sure there are no duplicates keys\u001b[0m\u001b[0;34m\u001b[0m\u001b[0;34m\u001b[0m\u001b[0m\n",
      "\u001b[0;31mRuntimeError\u001b[0m: Column name display_id does not exist"
     ]
    }
   ],
   "source": [
    "#val_frame\n",
    "#read prediction and parse it\n",
    "\n",
    "# 1read output\n",
    "output_list=pd.read_csv('output_val',header=None)\n",
    "\n",
    "print len(output_list),len(clicks_test)\n",
    "\n",
    "test_set=val_frame['display_id','ad_id','clicked']#\n",
    "test_set['prediction']=output_list[0]\n",
    "#join to test\n",
    "\n",
    "# sort test set\n",
    "test_set=test_set.sort(['display_id','prediction'],ascending=False)"
   ]
  },
  {
   "cell_type": "code",
   "execution_count": 28,
   "metadata": {
    "collapsed": false,
    "scrolled": true
   },
   "outputs": [
    {
     "ename": "KeyError",
     "evalue": "'clicked'",
     "output_type": "error",
     "traceback": [
      "\u001b[0;31m\u001b[0m",
      "\u001b[0;31mKeyError\u001b[0mTraceback (most recent call last)",
      "\u001b[0;32m<ipython-input-28-d37bc3d8281c>\u001b[0m in \u001b[0;36m<module>\u001b[0;34m()\u001b[0m\n\u001b[1;32m      1\u001b[0m \u001b[0;31m#calc map\u001b[0m\u001b[0;34m\u001b[0m\u001b[0;34m\u001b[0m\u001b[0m\n\u001b[0;32m----> 2\u001b[0;31m \u001b[0ms\u001b[0m\u001b[0;34m,\u001b[0m\u001b[0mdisplay_id\u001b[0m\u001b[0;34m,\u001b[0m\u001b[0mranks\u001b[0m\u001b[0;34m=\u001b[0m\u001b[0mcalc_map\u001b[0m\u001b[0;34m(\u001b[0m\u001b[0mtest_set\u001b[0m\u001b[0;34m)\u001b[0m\u001b[0;31m#/200000\u001b[0m\u001b[0;34m\u001b[0m\u001b[0m\n\u001b[0m\u001b[1;32m      3\u001b[0m \u001b[0ms\u001b[0m\u001b[0;34m/\u001b[0m\u001b[0mlen\u001b[0m\u001b[0;34m(\u001b[0m\u001b[0mdisplay_id\u001b[0m\u001b[0;34m)\u001b[0m\u001b[0;34m\u001b[0m\u001b[0m\n",
      "\u001b[0;32m<ipython-input-21-aed94ef9af01>\u001b[0m in \u001b[0;36mcalc_map\u001b[0;34m(frame)\u001b[0m\n\u001b[1;32m      9\u001b[0m     \u001b[0;32mfor\u001b[0m \u001b[0mrow\u001b[0m \u001b[0;32min\u001b[0m \u001b[0mframe\u001b[0m\u001b[0;34m:\u001b[0m\u001b[0;34m\u001b[0m\u001b[0m\n\u001b[1;32m     10\u001b[0m         \u001b[0;32mif\u001b[0m \u001b[0mrow\u001b[0m\u001b[0;34m[\u001b[0m\u001b[0;34m'display_id'\u001b[0m\u001b[0;34m]\u001b[0m\u001b[0;34m==\u001b[0m\u001b[0mpred_id\u001b[0m\u001b[0;34m:\u001b[0m\u001b[0;34m\u001b[0m\u001b[0m\n\u001b[0;32m---> 11\u001b[0;31m             \u001b[0;32mif\u001b[0m \u001b[0mrow\u001b[0m\u001b[0;34m[\u001b[0m\u001b[0;34m'clicked'\u001b[0m\u001b[0;34m]\u001b[0m\u001b[0;34m==\u001b[0m\u001b[0;36m1\u001b[0m\u001b[0;34m:\u001b[0m\u001b[0;34m\u001b[0m\u001b[0m\n\u001b[0m\u001b[1;32m     12\u001b[0m                 \u001b[0;31m#print row\u001b[0m\u001b[0;34m\u001b[0m\u001b[0;34m\u001b[0m\u001b[0m\n\u001b[1;32m     13\u001b[0m                 \u001b[0mclicks\u001b[0m\u001b[0;34m+=\u001b[0m\u001b[0;36m1\u001b[0m\u001b[0;34m\u001b[0m\u001b[0m\n",
      "\u001b[0;31mKeyError\u001b[0m: 'clicked'"
     ]
    }
   ],
   "source": [
    "#calc map\n",
    "s,display_id,ranks=calc_map(test_set)#/200000\n",
    "s/len(display_id)"
   ]
  },
  {
   "cell_type": "code",
   "execution_count": 29,
   "metadata": {
    "collapsed": false
   },
   "outputs": [],
   "source": [
    "\n",
    "first=1\n",
    "f = open('submission','w')\n",
    "for item in test_set:\n",
    "    if first or item['display_id']<>pred_dis_id:\n",
    "        f.write('\\n')\n",
    "        f.write(str(item['display_id'])+',')\n",
    "    first=0\n",
    "    pred_dis_id=item['display_id']    \n",
    "    f.write(str(item['ad_id'])+' ') \n",
    "f.close()"
   ]
  }
 ],
 "metadata": {
  "kernelspec": {
   "display_name": "Python 2",
   "language": "python",
   "name": "python2"
  },
  "language_info": {
   "codemirror_mode": {
    "name": "ipython",
    "version": 2
   },
   "file_extension": ".py",
   "mimetype": "text/x-python",
   "name": "python",
   "nbconvert_exporter": "python",
   "pygments_lexer": "ipython2",
   "version": "2.7.12+"
  }
 },
 "nbformat": 4,
 "nbformat_minor": 2
}
